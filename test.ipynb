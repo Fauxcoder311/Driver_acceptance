{
  "cells": [
    {
      "cell_type": "code",
      "execution_count": 213,
      "metadata": {
        "colab": {
          "base_uri": "https://localhost:8080/"
        },
        "id": "J1uRDPDZKN2h",
        "outputId": "67cca2b4-3653-48ee-9659-ae7d42b9b01b"
      },
      "outputs": [],
      "source": [
        "# !pip install haversine"
      ]
    },
    {
      "cell_type": "code",
      "execution_count": null,
      "metadata": {
        "id": "w_tZlW3GKN0V"
      },
      "outputs": [],
      "source": []
    },
    {
      "cell_type": "code",
      "execution_count": 214,
      "metadata": {
        "id": "ZjvIeAieKK40"
      },
      "outputs": [],
      "source": [
        "import pandas as pd\n",
        "import numpy as np\n",
        "import matplotlib.pyplot as plt\n",
        "import seaborn as sns"
      ]
    },
    {
      "cell_type": "markdown",
      "metadata": {
        "id": "g3ZiaaFgKK41"
      },
      "source": [
        "## utils"
      ]
    },
    {
      "cell_type": "code",
      "execution_count": 215,
      "metadata": {
        "id": "_RSSa_rQKK42"
      },
      "outputs": [],
      "source": [
        "from datetime import datetime\n",
        "\n",
        "DATE_FMT = \"%Y-%m-%d %H:%M:%S.%f %Z\"\n",
        "\n",
        "\n",
        "def iso_to_datetime(iso_str: str, date_format: str = DATE_FMT) -> datetime:\n",
        "    \"\"\"Converts a date in iso_str format to datetime object\n",
        "\n",
        "    Args:\n",
        "        iso_str: Date string in iso format, e.g. 2015-05-23 23:54:00.123 UTC\n",
        "        date_format: Format of the date string to be parsed\n",
        "\n",
        "    Returns:\n",
        "        datetime object that represents the input date\n",
        "    \"\"\"\n",
        "    return datetime.strptime(iso_str, date_format)\n",
        "\n",
        "\n",
        "def hour_of_iso_date(iso_str: str, date_format: str = DATE_FMT) -> int:\n",
        "    return iso_to_datetime(iso_str, date_format).hour\n",
        "\n",
        "\n",
        "def robust_hour_of_iso_date(iso_str: str, date_format: str = DATE_FMT) -> int:\n",
        "    try:\n",
        "        return hour_of_iso_date(iso_str, date_format)\n",
        "    except:\n",
        "        return hour_of_iso_date(iso_str, \"%Y-%m-%d %H:%M:%S %Z\")\n",
        "\n",
        "\n",
        "def weekday_of_iso_date(iso_str: str, date_format: str = DATE_FMT) -> int:\n",
        "    return iso_to_datetime(iso_str, date_format).weekday()\n",
        "\n",
        "\n",
        "def robust_weekday_of_iso_date(iso_str: str, date_format: str = DATE_FMT) -> int:\n",
        "    try:\n",
        "        return weekday_of_iso_date(iso_str, date_format)\n",
        "    except:\n",
        "        return weekday_of_iso_date(iso_str, \"%Y-%m-%d %H:%M:%S %Z\")\n",
        "\n",
        "\n",
        "def day_of_iso_date(iso_str: str, date_format: str = DATE_FMT) -> int:\n",
        "    _date = iso_to_datetime(iso_str, date_format)\n",
        "    return int(_date.strftime(\"%Y%m%d\"))\n",
        "\n",
        "\n",
        "def robust_day_of_iso_date(iso_str: str, date_format: str = DATE_FMT) -> int:\n",
        "    try:\n",
        "        return day_of_iso_date(iso_str, date_format)\n",
        "    except:\n",
        "        return day_of_iso_date(iso_str, \"%Y-%m-%d %H:%M:%S %Z\")\n",
        "\n",
        "\n",
        "def robust_iso_date(iso_str: str, date_format: str = DATE_FMT) -> int:\n",
        "    try:\n",
        "        return iso_to_datetime(iso_str, date_format)\n",
        "    except:\n",
        "        return iso_to_datetime(iso_str, \"%Y-%m-%d %H:%M:%S %Z\")"
      ]
    },
    {
      "cell_type": "code",
      "execution_count": 216,
      "metadata": {
        "colab": {
          "base_uri": "https://localhost:8080/",
          "height": 224
        },
        "id": "AcSdA6ZvKK42",
        "outputId": "8939718a-b5bc-4b49-9b44-d425a3f997fe"
      },
      "outputs": [
        {
          "name": "stdout",
          "output_type": "stream",
          "text": [
            "(699212, 8)\n"
          ]
        },
        {
          "data": {
            "text/html": [
              "<div>\n",
              "<style scoped>\n",
              "    .dataframe tbody tr th:only-of-type {\n",
              "        vertical-align: middle;\n",
              "    }\n",
              "\n",
              "    .dataframe tbody tr th {\n",
              "        vertical-align: top;\n",
              "    }\n",
              "\n",
              "    .dataframe thead th {\n",
              "        text-align: right;\n",
              "    }\n",
              "</style>\n",
              "<table border=\"1\" class=\"dataframe\">\n",
              "  <thead>\n",
              "    <tr style=\"text-align: right;\">\n",
              "      <th></th>\n",
              "      <th>event_timestamp</th>\n",
              "      <th>order_id</th>\n",
              "      <th>booking_status</th>\n",
              "      <th>customer_id</th>\n",
              "      <th>driver_id</th>\n",
              "      <th>trip_distance</th>\n",
              "      <th>pickup_latitude</th>\n",
              "      <th>pickup_longitude</th>\n",
              "    </tr>\n",
              "  </thead>\n",
              "  <tbody>\n",
              "    <tr>\n",
              "      <th>0</th>\n",
              "      <td>2015-05-12 05:25:23.904 UTC</td>\n",
              "      <td>102254181112</td>\n",
              "      <td>CREATED</td>\n",
              "      <td>715281995014</td>\n",
              "      <td>NaN</td>\n",
              "      <td>2.0</td>\n",
              "      <td>-2.998461</td>\n",
              "      <td>104.788077</td>\n",
              "    </tr>\n",
              "    <tr>\n",
              "      <th>1</th>\n",
              "      <td>2015-05-12 05:25:24.67 UTC</td>\n",
              "      <td>102254181112</td>\n",
              "      <td>DRIVER_FOUND</td>\n",
              "      <td>715281995014</td>\n",
              "      <td>2.211727e+11</td>\n",
              "      <td>2.0</td>\n",
              "      <td>-2.998461</td>\n",
              "      <td>104.788077</td>\n",
              "    </tr>\n",
              "    <tr>\n",
              "      <th>2</th>\n",
              "      <td>2015-05-12 05:55:10.496544 UTC</td>\n",
              "      <td>102254181112</td>\n",
              "      <td>COMPLETED</td>\n",
              "      <td>715281995014</td>\n",
              "      <td>2.211727e+11</td>\n",
              "      <td>2.0</td>\n",
              "      <td>-2.998461</td>\n",
              "      <td>104.788077</td>\n",
              "    </tr>\n",
              "    <tr>\n",
              "      <th>3</th>\n",
              "      <td>2015-05-12 05:29:37.305 UTC</td>\n",
              "      <td>105520285203</td>\n",
              "      <td>CREATED</td>\n",
              "      <td>957980952237</td>\n",
              "      <td>NaN</td>\n",
              "      <td>2.0</td>\n",
              "      <td>-2.970621</td>\n",
              "      <td>104.756226</td>\n",
              "    </tr>\n",
              "    <tr>\n",
              "      <th>4</th>\n",
              "      <td>2015-05-12 05:29:38.214 UTC</td>\n",
              "      <td>105520285203</td>\n",
              "      <td>DRIVER_FOUND</td>\n",
              "      <td>957980952237</td>\n",
              "      <td>5.276724e+11</td>\n",
              "      <td>2.0</td>\n",
              "      <td>-2.970621</td>\n",
              "      <td>104.756226</td>\n",
              "    </tr>\n",
              "  </tbody>\n",
              "</table>\n",
              "</div>"
            ],
            "text/plain": [
              "                  event_timestamp      order_id booking_status   customer_id  \\\n",
              "0     2015-05-12 05:25:23.904 UTC  102254181112        CREATED  715281995014   \n",
              "1      2015-05-12 05:25:24.67 UTC  102254181112   DRIVER_FOUND  715281995014   \n",
              "2  2015-05-12 05:55:10.496544 UTC  102254181112      COMPLETED  715281995014   \n",
              "3     2015-05-12 05:29:37.305 UTC  105520285203        CREATED  957980952237   \n",
              "4     2015-05-12 05:29:38.214 UTC  105520285203   DRIVER_FOUND  957980952237   \n",
              "\n",
              "      driver_id  trip_distance  pickup_latitude  pickup_longitude  \n",
              "0           NaN            2.0        -2.998461        104.788077  \n",
              "1  2.211727e+11            2.0        -2.998461        104.788077  \n",
              "2  2.211727e+11            2.0        -2.998461        104.788077  \n",
              "3           NaN            2.0        -2.970621        104.756226  \n",
              "4  5.276724e+11            2.0        -2.970621        104.756226  "
            ]
          },
          "execution_count": 216,
          "metadata": {},
          "output_type": "execute_result"
        }
      ],
      "source": [
        "booking_log = pd.read_csv(\"data/raw/booking_log.csv\")\n",
        "print(booking_log.shape)\n",
        "booking_log.head()"
      ]
    },
    {
      "cell_type": "code",
      "execution_count": 217,
      "metadata": {
        "colab": {
          "base_uri": "https://localhost:8080/",
          "height": 347
        },
        "id": "B0XdNnCQKK43",
        "outputId": "08ed20c9-284a-499f-a298-8032d3d2deb3"
      },
      "outputs": [
        {
          "name": "stdout",
          "output_type": "stream",
          "text": [
            "185867\n"
          ]
        },
        {
          "data": {
            "text/plain": [
              "booking_status\n",
              "CREATED               186036\n",
              "DRIVER_FOUND          175987\n",
              "PICKED_UP             152788\n",
              "COMPLETED             152032\n",
              "CUSTOMER_CANCELLED     28793\n",
              "DRIVER_NOT_FOUND        2262\n",
              "DRIVER_CANCELLED        1314\n",
              "Name: count, dtype: int64"
            ]
          },
          "metadata": {},
          "output_type": "display_data"
        },
        {
          "data": {
            "text/plain": [
              "event_timestamp         92\n",
              "order_id                 0\n",
              "booking_status           0\n",
              "customer_id              0\n",
              "driver_id           194035\n",
              "trip_distance            0\n",
              "pickup_latitude          0\n",
              "pickup_longitude         0\n",
              "dtype: int64"
            ]
          },
          "metadata": {},
          "output_type": "display_data"
        }
      ],
      "source": [
        "print(booking_log[\"order_id\"].nunique())\n",
        "display(booking_log[\"booking_status\"].value_counts())\n",
        "display(booking_log.isna().sum())"
      ]
    },
    {
      "cell_type": "code",
      "execution_count": 218,
      "metadata": {
        "id": "u7kQ7BrHKK43"
      },
      "outputs": [],
      "source": [
        "unique_columns = [\n",
        "    \"order_id\",\n",
        "    \"trip_distance\",\n",
        "    \"pickup_latitude\",\n",
        "    \"pickup_longitude\",\n",
        "]\n",
        "booking_log = booking_log.drop_duplicates(subset=unique_columns)\n",
        "booking_log = booking_log[unique_columns]"
      ]
    },
    {
      "cell_type": "code",
      "execution_count": 219,
      "metadata": {
        "colab": {
          "base_uri": "https://localhost:8080/"
        },
        "id": "TxYuJB0IKK44",
        "outputId": "2f292e4f-4205-4f66-8e6e-0ac4857abcc8"
      },
      "outputs": [
        {
          "name": "stdout",
          "output_type": "stream",
          "text": [
            "185867\n",
            "(185867, 4)\n"
          ]
        }
      ],
      "source": [
        "print(booking_log[\"order_id\"].nunique())\n",
        "print(booking_log.shape)"
      ]
    },
    {
      "cell_type": "code",
      "execution_count": 220,
      "metadata": {
        "id": "2R5zRpEbKK44"
      },
      "outputs": [],
      "source": [
        "# booking_log.dropna(subset=['event_timestamp'], inplace=True, ignore_index=True)"
      ]
    },
    {
      "cell_type": "code",
      "execution_count": 221,
      "metadata": {
        "id": "ORuKO_IWKK44"
      },
      "outputs": [],
      "source": [
        "# booking_log['event_timestamp'] = booking_log['event_timestamp'].apply(robust_iso_date)\n",
        "# booking_log = booking_log.sort_values(by='event_timestamp', ascending=True)\n",
        "# booking_log = booking_log.drop_duplicates(subset=['order_id'], keep='last')"
      ]
    },
    {
      "cell_type": "code",
      "execution_count": 222,
      "metadata": {
        "id": "SJ1w1HD-KK44"
      },
      "outputs": [],
      "source": [
        "# print(booking_log['order_id'].nunique())\n",
        "# display(booking_log['booking_status'].value_counts())\n",
        "# display(booking_log.isna().sum())"
      ]
    },
    {
      "cell_type": "code",
      "execution_count": 223,
      "metadata": {
        "colab": {
          "base_uri": "https://localhost:8080/",
          "height": 224
        },
        "id": "8pmKgL8vKK44",
        "outputId": "6b505ef3-a907-4a62-b12c-d6e08ab52b61"
      },
      "outputs": [
        {
          "name": "stdout",
          "output_type": "stream",
          "text": [
            "(400230, 8)\n"
          ]
        },
        {
          "data": {
            "text/html": [
              "<div>\n",
              "<style scoped>\n",
              "    .dataframe tbody tr th:only-of-type {\n",
              "        vertical-align: middle;\n",
              "    }\n",
              "\n",
              "    .dataframe tbody tr th {\n",
              "        vertical-align: top;\n",
              "    }\n",
              "\n",
              "    .dataframe thead th {\n",
              "        text-align: right;\n",
              "    }\n",
              "</style>\n",
              "<table border=\"1\" class=\"dataframe\">\n",
              "  <thead>\n",
              "    <tr style=\"text-align: right;\">\n",
              "      <th></th>\n",
              "      <th>event_timestamp</th>\n",
              "      <th>driver_id</th>\n",
              "      <th>participant_status</th>\n",
              "      <th>order_id</th>\n",
              "      <th>experiment_key</th>\n",
              "      <th>driver_latitude</th>\n",
              "      <th>driver_longitude</th>\n",
              "      <th>driver_gps_accuracy</th>\n",
              "    </tr>\n",
              "  </thead>\n",
              "  <tbody>\n",
              "    <tr>\n",
              "      <th>0</th>\n",
              "      <td>2015-05-18 11:45:19.519 UTC</td>\n",
              "      <td>110283102582</td>\n",
              "      <td>CREATED</td>\n",
              "      <td>938125906616</td>\n",
              "      <td>309579604593</td>\n",
              "      <td>-2.981389</td>\n",
              "      <td>104.761898</td>\n",
              "      <td>2.0</td>\n",
              "    </tr>\n",
              "    <tr>\n",
              "      <th>1</th>\n",
              "      <td>2015-05-18 11:45:29.8 UTC</td>\n",
              "      <td>110283102582</td>\n",
              "      <td>ACCEPTED</td>\n",
              "      <td>938125906616</td>\n",
              "      <td>309579604593</td>\n",
              "      <td>-2.981389</td>\n",
              "      <td>104.761898</td>\n",
              "      <td>2.0</td>\n",
              "    </tr>\n",
              "    <tr>\n",
              "      <th>2</th>\n",
              "      <td>2015-05-11 10:35:57.021 UTC</td>\n",
              "      <td>126346998414</td>\n",
              "      <td>CREATED</td>\n",
              "      <td>992080359113</td>\n",
              "      <td>941995970460</td>\n",
              "      <td>-2.966915</td>\n",
              "      <td>104.748040</td>\n",
              "      <td>2.0</td>\n",
              "    </tr>\n",
              "    <tr>\n",
              "      <th>3</th>\n",
              "      <td>2015-05-11 10:36:01.148 UTC</td>\n",
              "      <td>126346998414</td>\n",
              "      <td>ACCEPTED</td>\n",
              "      <td>992080359113</td>\n",
              "      <td>941995970460</td>\n",
              "      <td>-2.966915</td>\n",
              "      <td>104.748040</td>\n",
              "      <td>2.0</td>\n",
              "    </tr>\n",
              "    <tr>\n",
              "      <th>4</th>\n",
              "      <td>2015-05-16 12:34:20.044 UTC</td>\n",
              "      <td>199325048812</td>\n",
              "      <td>ACCEPTED</td>\n",
              "      <td>797723880713</td>\n",
              "      <td>197604093364</td>\n",
              "      <td>-3.014740</td>\n",
              "      <td>104.694647</td>\n",
              "      <td>2.0</td>\n",
              "    </tr>\n",
              "  </tbody>\n",
              "</table>\n",
              "</div>"
            ],
            "text/plain": [
              "               event_timestamp     driver_id participant_status      order_id  \\\n",
              "0  2015-05-18 11:45:19.519 UTC  110283102582            CREATED  938125906616   \n",
              "1    2015-05-18 11:45:29.8 UTC  110283102582           ACCEPTED  938125906616   \n",
              "2  2015-05-11 10:35:57.021 UTC  126346998414            CREATED  992080359113   \n",
              "3  2015-05-11 10:36:01.148 UTC  126346998414           ACCEPTED  992080359113   \n",
              "4  2015-05-16 12:34:20.044 UTC  199325048812           ACCEPTED  797723880713   \n",
              "\n",
              "   experiment_key  driver_latitude  driver_longitude  driver_gps_accuracy  \n",
              "0    309579604593        -2.981389        104.761898                  2.0  \n",
              "1    309579604593        -2.981389        104.761898                  2.0  \n",
              "2    941995970460        -2.966915        104.748040                  2.0  \n",
              "3    941995970460        -2.966915        104.748040                  2.0  \n",
              "4    197604093364        -3.014740        104.694647                  2.0  "
            ]
          },
          "execution_count": 223,
          "metadata": {},
          "output_type": "execute_result"
        }
      ],
      "source": [
        "participants = pd.read_csv(\"data/raw/participant_log.csv\")\n",
        "print(participants.shape)\n",
        "participants.head()"
      ]
    },
    {
      "cell_type": "code",
      "execution_count": 224,
      "metadata": {
        "colab": {
          "base_uri": "https://localhost:8080/",
          "height": 312
        },
        "id": "kLptQtZqKK44",
        "outputId": "244feb1f-7a23-4196-d660-c0c659b45562"
      },
      "outputs": [
        {
          "name": "stdout",
          "output_type": "stream",
          "text": [
            "14913\n",
            "179697\n"
          ]
        },
        {
          "data": {
            "text/plain": [
              "participant_status\n",
              "CREATED     200681\n",
              "ACCEPTED    180753\n",
              "IGNORED      17322\n",
              "REJECTED      1474\n",
              "Name: count, dtype: int64"
            ]
          },
          "metadata": {},
          "output_type": "display_data"
        },
        {
          "data": {
            "text/plain": [
              "event_timestamp        0\n",
              "driver_id              0\n",
              "participant_status     0\n",
              "order_id               0\n",
              "experiment_key         0\n",
              "driver_latitude        0\n",
              "driver_longitude       0\n",
              "driver_gps_accuracy    0\n",
              "dtype: int64"
            ]
          },
          "metadata": {},
          "output_type": "display_data"
        }
      ],
      "source": [
        "print(participants[\"driver_id\"].nunique())\n",
        "print(participants[\"order_id\"].nunique())\n",
        "display(participants[\"participant_status\"].value_counts())\n",
        "display(participants.isna().sum())"
      ]
    },
    {
      "cell_type": "code",
      "execution_count": 225,
      "metadata": {
        "colab": {
          "base_uri": "https://localhost:8080/"
        },
        "id": "AO_1-tcXKK44",
        "outputId": "1f96f6ca-12b8-4ac3-be44-6a0e7f371688"
      },
      "outputs": [
        {
          "name": "stdout",
          "output_type": "stream",
          "text": [
            "(400104, 8)\n",
            "179697\n"
          ]
        }
      ],
      "source": [
        "participants.drop_duplicates(\n",
        "    subset=[\"driver_id\", \"order_id\", \"participant_status\"],\n",
        "    ignore_index=True,\n",
        "    inplace=True,\n",
        ")\n",
        "print(participants.shape)\n",
        "print(participants.order_id.nunique())"
      ]
    },
    {
      "cell_type": "code",
      "execution_count": 226,
      "metadata": {},
      "outputs": [
        {
          "name": "stdout",
          "output_type": "stream",
          "text": [
            "(400104,)\n"
          ]
        }
      ],
      "source": [
        "chec = participants.drop_duplicates()\n",
        "chec.shape\n",
        "print(chec[\"driver_id\"].shape)"
      ]
    },
    {
      "cell_type": "code",
      "execution_count": 227,
      "metadata": {
        "id": "DKCZY5zBKK45"
      },
      "outputs": [],
      "source": [
        "# participants = participants.rename(columns={\"driver_id\": 'participant_id'})"
      ]
    },
    {
      "cell_type": "code",
      "execution_count": 228,
      "metadata": {
        "id": "MusIsu1nKK45"
      },
      "outputs": [],
      "source": [
        "# temp_df = participants.groupby(['participant_id', 'order_id'], as_index=False).agg({\"participant_status\": list})\n",
        "# temp_df['participant_status'] = temp_df['participant_status'].apply(lambda x: sorted(x))\n",
        "# temp_df['participant_status'].value_counts()"
      ]
    },
    {
      "cell_type": "code",
      "execution_count": 229,
      "metadata": {
        "colab": {
          "base_uri": "https://localhost:8080/",
          "height": 243
        },
        "id": "zjJOfuRlKK45",
        "outputId": "b2be7c65-d8ad-491b-c028-413cb646892b"
      },
      "outputs": [
        {
          "name": "stdout",
          "output_type": "stream",
          "text": [
            "(400104, 11)\n"
          ]
        },
        {
          "data": {
            "text/plain": [
              "event_timestamp        0\n",
              "driver_id              0\n",
              "participant_status     0\n",
              "order_id               0\n",
              "experiment_key         0\n",
              "driver_latitude        0\n",
              "driver_longitude       0\n",
              "driver_gps_accuracy    0\n",
              "trip_distance          0\n",
              "pickup_latitude        0\n",
              "pickup_longitude       0\n",
              "dtype: int64"
            ]
          },
          "metadata": {},
          "output_type": "display_data"
        }
      ],
      "source": [
        "# participants = participants[participants['participant_status']!='CREATED'].reset_index(drop=True)\n",
        "\n",
        "merged_df = participants.merge(booking_log, on=[\"order_id\"], how=\"left\")\n",
        "\n",
        "print(merged_df.shape)\n",
        "display(merged_df.isna().sum())"
      ]
    },
    {
      "cell_type": "code",
      "execution_count": 230,
      "metadata": {
        "colab": {
          "base_uri": "https://localhost:8080/",
          "height": 293
        },
        "id": "L5JAu_8LKK45",
        "outputId": "3befaa38-1e62-4b08-bdf6-a66b066f81da"
      },
      "outputs": [
        {
          "data": {
            "text/html": [
              "<div>\n",
              "<style scoped>\n",
              "    .dataframe tbody tr th:only-of-type {\n",
              "        vertical-align: middle;\n",
              "    }\n",
              "\n",
              "    .dataframe tbody tr th {\n",
              "        vertical-align: top;\n",
              "    }\n",
              "\n",
              "    .dataframe thead th {\n",
              "        text-align: right;\n",
              "    }\n",
              "</style>\n",
              "<table border=\"1\" class=\"dataframe\">\n",
              "  <thead>\n",
              "    <tr style=\"text-align: right;\">\n",
              "      <th></th>\n",
              "      <th>event_timestamp</th>\n",
              "      <th>driver_id</th>\n",
              "      <th>participant_status</th>\n",
              "      <th>order_id</th>\n",
              "      <th>experiment_key</th>\n",
              "      <th>driver_latitude</th>\n",
              "      <th>driver_longitude</th>\n",
              "      <th>driver_gps_accuracy</th>\n",
              "      <th>trip_distance</th>\n",
              "      <th>pickup_latitude</th>\n",
              "      <th>pickup_longitude</th>\n",
              "    </tr>\n",
              "  </thead>\n",
              "  <tbody>\n",
              "    <tr>\n",
              "      <th>234920</th>\n",
              "      <td>2015-05-10 00:00:11.845 UTC</td>\n",
              "      <td>288223322155</td>\n",
              "      <td>CREATED</td>\n",
              "      <td>257432374014</td>\n",
              "      <td>135546226388</td>\n",
              "      <td>-2.995167</td>\n",
              "      <td>104.767443</td>\n",
              "      <td>87.600</td>\n",
              "      <td>1.428</td>\n",
              "      <td>-2.994609</td>\n",
              "      <td>104.767860</td>\n",
              "    </tr>\n",
              "    <tr>\n",
              "      <th>234921</th>\n",
              "      <td>2015-05-10 00:00:12.963 UTC</td>\n",
              "      <td>288223322155</td>\n",
              "      <td>ACCEPTED</td>\n",
              "      <td>257432374014</td>\n",
              "      <td>135546226388</td>\n",
              "      <td>-2.995167</td>\n",
              "      <td>104.767443</td>\n",
              "      <td>87.600</td>\n",
              "      <td>1.428</td>\n",
              "      <td>-2.994609</td>\n",
              "      <td>104.767860</td>\n",
              "    </tr>\n",
              "    <tr>\n",
              "      <th>154995</th>\n",
              "      <td>2015-05-10 00:00:16.174 UTC</td>\n",
              "      <td>552835747248</td>\n",
              "      <td>CREATED</td>\n",
              "      <td>811842312011</td>\n",
              "      <td>291923492741</td>\n",
              "      <td>-2.932598</td>\n",
              "      <td>104.789056</td>\n",
              "      <td>4.348</td>\n",
              "      <td>2.501</td>\n",
              "      <td>-2.936892</td>\n",
              "      <td>104.792555</td>\n",
              "    </tr>\n",
              "    <tr>\n",
              "      <th>43210</th>\n",
              "      <td>2015-05-10 00:00:19.332 UTC</td>\n",
              "      <td>869163565780</td>\n",
              "      <td>CREATED</td>\n",
              "      <td>613128887100</td>\n",
              "      <td>495307579739</td>\n",
              "      <td>-2.919218</td>\n",
              "      <td>104.716482</td>\n",
              "      <td>3.000</td>\n",
              "      <td>5.212</td>\n",
              "      <td>-2.921464</td>\n",
              "      <td>104.717112</td>\n",
              "    </tr>\n",
              "    <tr>\n",
              "      <th>43218</th>\n",
              "      <td>2015-05-10 00:00:19.926 UTC</td>\n",
              "      <td>869163565780</td>\n",
              "      <td>ACCEPTED</td>\n",
              "      <td>613128887100</td>\n",
              "      <td>495307579739</td>\n",
              "      <td>-2.919218</td>\n",
              "      <td>104.716482</td>\n",
              "      <td>3.000</td>\n",
              "      <td>5.212</td>\n",
              "      <td>-2.921464</td>\n",
              "      <td>104.717112</td>\n",
              "    </tr>\n",
              "  </tbody>\n",
              "</table>\n",
              "</div>"
            ],
            "text/plain": [
              "                    event_timestamp     driver_id participant_status  \\\n",
              "234920  2015-05-10 00:00:11.845 UTC  288223322155            CREATED   \n",
              "234921  2015-05-10 00:00:12.963 UTC  288223322155           ACCEPTED   \n",
              "154995  2015-05-10 00:00:16.174 UTC  552835747248            CREATED   \n",
              "43210   2015-05-10 00:00:19.332 UTC  869163565780            CREATED   \n",
              "43218   2015-05-10 00:00:19.926 UTC  869163565780           ACCEPTED   \n",
              "\n",
              "            order_id  experiment_key  driver_latitude  driver_longitude  \\\n",
              "234920  257432374014    135546226388        -2.995167        104.767443   \n",
              "234921  257432374014    135546226388        -2.995167        104.767443   \n",
              "154995  811842312011    291923492741        -2.932598        104.789056   \n",
              "43210   613128887100    495307579739        -2.919218        104.716482   \n",
              "43218   613128887100    495307579739        -2.919218        104.716482   \n",
              "\n",
              "        driver_gps_accuracy  trip_distance  pickup_latitude  pickup_longitude  \n",
              "234920               87.600          1.428        -2.994609        104.767860  \n",
              "234921               87.600          1.428        -2.994609        104.767860  \n",
              "154995                4.348          2.501        -2.936892        104.792555  \n",
              "43210                 3.000          5.212        -2.921464        104.717112  \n",
              "43218                 3.000          5.212        -2.921464        104.717112  "
            ]
          },
          "execution_count": 230,
          "metadata": {},
          "output_type": "execute_result"
        }
      ],
      "source": [
        "merged_df.sort_values(by=\"event_timestamp\").head()"
      ]
    },
    {
      "cell_type": "code",
      "execution_count": 231,
      "metadata": {
        "id": "D1RKruVpKK45"
      },
      "outputs": [],
      "source": [
        "# merged_df['booking_status'] = np.where(\n",
        "#     ((merged_df['participant_status'].isin(['IGNORED', 'REJECTED']))&(merged_df['booking_status']!='CREATED')),\n",
        "#     'DRIVER_CANCELLED',\n",
        "#     merged_df['booking_status']\n",
        "# )"
      ]
    },
    {
      "cell_type": "code",
      "execution_count": 232,
      "metadata": {
        "id": "OCOWTvEUKK45"
      },
      "outputs": [],
      "source": [
        "# merged_df.groupby(by=['participant_status', 'booking_status'], as_index=False)['order_id'].count()"
      ]
    },
    {
      "cell_type": "code",
      "execution_count": 233,
      "metadata": {
        "id": "EkT8DcIDKK45"
      },
      "outputs": [],
      "source": [
        "# merged_df = merged_df[~((merged_df['booking_status']=='DRIVER_NOT_FOUND')&(merged_df['participant_status']=='ACCEPTED'))]"
      ]
    },
    {
      "cell_type": "code",
      "execution_count": 234,
      "metadata": {
        "id": "FQL-rdlFKK45"
      },
      "outputs": [],
      "source": [
        "# merged_df['booking_status'].value_counts()"
      ]
    },
    {
      "cell_type": "code",
      "execution_count": 235,
      "metadata": {
        "id": "h8sk512iKK45"
      },
      "outputs": [],
      "source": [
        "merged_df[\"event_day\"] = merged_df[\"event_timestamp\"].apply(robust_day_of_iso_date)"
      ]
    },
    {
      "cell_type": "code",
      "execution_count": 236,
      "metadata": {
        "colab": {
          "base_uri": "https://localhost:8080/"
        },
        "id": "jM_zCZxYKK45",
        "outputId": "e5481607-ce7d-4f9d-f1d5-63a54dad9884"
      },
      "outputs": [
        {
          "data": {
            "text/plain": [
              "participant_status\n",
              "CREATED     200619\n",
              "ACCEPTED    180703\n",
              "IGNORED      17309\n",
              "REJECTED      1473\n",
              "Name: count, dtype: int64"
            ]
          },
          "execution_count": 236,
          "metadata": {},
          "output_type": "execute_result"
        }
      ],
      "source": [
        "merged_df[\"participant_status\"].value_counts()"
      ]
    },
    {
      "cell_type": "code",
      "execution_count": 237,
      "metadata": {
        "colab": {
          "base_uri": "https://localhost:8080/",
          "height": 313
        },
        "id": "DjcF8V_5KK45",
        "outputId": "a7620135-10d1-4883-dbc2-06c33b958460"
      },
      "outputs": [
        {
          "name": "stdout",
          "output_type": "stream",
          "text": [
            "(400104, 12)\n",
            "participant_status\n",
            "CREATED     200619\n",
            "ACCEPTED    180703\n",
            "IGNORED      17309\n",
            "REJECTED      1473\n",
            "Name: count, dtype: int64\n"
          ]
        }
      ],
      "source": [
        "# print(merged_df.head)\n",
        "print(merged_df.shape)\n",
        "print(merged_df[\"participant_status\"].value_counts())"
      ]
    },
    {
      "cell_type": "code",
      "execution_count": 238,
      "metadata": {},
      "outputs": [
        {
          "data": {
            "text/plain": [
              "(200619, 12)"
            ]
          },
          "execution_count": 238,
          "metadata": {},
          "output_type": "execute_result"
        }
      ],
      "source": [
        "chec = merged_df.drop_duplicates(subset=[\"driver_id\", \"order_id\"], keep=\"last\")\n",
        "chec.shape"
      ]
    },
    {
      "cell_type": "code",
      "execution_count": 239,
      "metadata": {},
      "outputs": [],
      "source": [
        "driver_day_events = (\n",
        "    merged_df[merged_df[\"participant_status\"].isin([\"ACCEPTED\", \"IGNORED\", \"REJECTED\"])]\n",
        "    .groupby([\"driver_id\", \"event_day\", \"participant_status\"], as_index=False)\n",
        "    .agg(num_orders=pd.NamedAgg(\"order_id\", lambda x: len(set(x))))\n",
        ")\n",
        "driver_day_events = driver_day_events.pivot(\n",
        "    index=[\"driver_id\", \"event_day\"],\n",
        "    columns=[\"participant_status\"],\n",
        "    values=[\"num_orders\"],\n",
        ")\n",
        "driver_day_events.columns = [\n",
        "    \"_\".join(a) for a in driver_day_events.columns.to_flat_index()\n",
        "]"
      ]
    },
    {
      "cell_type": "code",
      "execution_count": 240,
      "metadata": {},
      "outputs": [
        {
          "data": {
            "text/html": [
              "<div>\n",
              "<style scoped>\n",
              "    .dataframe tbody tr th:only-of-type {\n",
              "        vertical-align: middle;\n",
              "    }\n",
              "\n",
              "    .dataframe tbody tr th {\n",
              "        vertical-align: top;\n",
              "    }\n",
              "\n",
              "    .dataframe thead th {\n",
              "        text-align: right;\n",
              "    }\n",
              "</style>\n",
              "<table border=\"1\" class=\"dataframe\">\n",
              "  <thead>\n",
              "    <tr style=\"text-align: right;\">\n",
              "      <th></th>\n",
              "      <th></th>\n",
              "      <th>num_orders_ACCEPTED</th>\n",
              "      <th>num_orders_IGNORED</th>\n",
              "      <th>num_orders_REJECTED</th>\n",
              "    </tr>\n",
              "    <tr>\n",
              "      <th>driver_id</th>\n",
              "      <th>event_day</th>\n",
              "      <th></th>\n",
              "      <th></th>\n",
              "      <th></th>\n",
              "    </tr>\n",
              "  </thead>\n",
              "  <tbody>\n",
              "    <tr>\n",
              "      <th>100049799902</th>\n",
              "      <th>20150512</th>\n",
              "      <td>1.0</td>\n",
              "      <td>NaN</td>\n",
              "      <td>NaN</td>\n",
              "    </tr>\n",
              "    <tr>\n",
              "      <th rowspan=\"4\" valign=\"top\">100085508914</th>\n",
              "      <th>20150513</th>\n",
              "      <td>2.0</td>\n",
              "      <td>NaN</td>\n",
              "      <td>NaN</td>\n",
              "    </tr>\n",
              "    <tr>\n",
              "      <th>20150514</th>\n",
              "      <td>1.0</td>\n",
              "      <td>NaN</td>\n",
              "      <td>NaN</td>\n",
              "    </tr>\n",
              "    <tr>\n",
              "      <th>20150515</th>\n",
              "      <td>2.0</td>\n",
              "      <td>NaN</td>\n",
              "      <td>NaN</td>\n",
              "    </tr>\n",
              "    <tr>\n",
              "      <th>20150516</th>\n",
              "      <td>NaN</td>\n",
              "      <td>1.0</td>\n",
              "      <td>NaN</td>\n",
              "    </tr>\n",
              "  </tbody>\n",
              "</table>\n",
              "</div>"
            ],
            "text/plain": [
              "                        num_orders_ACCEPTED  num_orders_IGNORED  \\\n",
              "driver_id    event_day                                            \n",
              "100049799902 20150512                   1.0                 NaN   \n",
              "100085508914 20150513                   2.0                 NaN   \n",
              "             20150514                   1.0                 NaN   \n",
              "             20150515                   2.0                 NaN   \n",
              "             20150516                   NaN                 1.0   \n",
              "\n",
              "                        num_orders_REJECTED  \n",
              "driver_id    event_day                       \n",
              "100049799902 20150512                   NaN  \n",
              "100085508914 20150513                   NaN  \n",
              "             20150514                   NaN  \n",
              "             20150515                   NaN  \n",
              "             20150516                   NaN  "
            ]
          },
          "execution_count": 240,
          "metadata": {},
          "output_type": "execute_result"
        }
      ],
      "source": [
        "driver_day_events.head()"
      ]
    },
    {
      "cell_type": "code",
      "execution_count": 241,
      "metadata": {
        "colab": {
          "base_uri": "https://localhost:8080/",
          "height": 424
        },
        "id": "ScZqo1nyKK46",
        "outputId": "6b8eacba-daeb-4400-dfd6-d45986c3cc4f"
      },
      "outputs": [
        {
          "data": {
            "text/html": [
              "<div>\n",
              "<style scoped>\n",
              "    .dataframe tbody tr th:only-of-type {\n",
              "        vertical-align: middle;\n",
              "    }\n",
              "\n",
              "    .dataframe tbody tr th {\n",
              "        vertical-align: top;\n",
              "    }\n",
              "\n",
              "    .dataframe thead th {\n",
              "        text-align: right;\n",
              "    }\n",
              "</style>\n",
              "<table border=\"1\" class=\"dataframe\">\n",
              "  <thead>\n",
              "    <tr style=\"text-align: right;\">\n",
              "      <th></th>\n",
              "      <th>driver_id</th>\n",
              "      <th>event_day</th>\n",
              "      <th>num_orders_ACCEPTED</th>\n",
              "      <th>num_orders_IGNORED</th>\n",
              "      <th>num_orders_REJECTED</th>\n",
              "      <th>num_orders_TOTAL</th>\n",
              "      <th>acceptance_rate</th>\n",
              "      <th>rejection_rate</th>\n",
              "      <th>ignorance_rate</th>\n",
              "    </tr>\n",
              "  </thead>\n",
              "  <tbody>\n",
              "    <tr>\n",
              "      <th>0</th>\n",
              "      <td>100049799902</td>\n",
              "      <td>20150512</td>\n",
              "      <td>1.0</td>\n",
              "      <td>0.0</td>\n",
              "      <td>0.0</td>\n",
              "      <td>1</td>\n",
              "      <td>1.0</td>\n",
              "      <td>0.0</td>\n",
              "      <td>0.0</td>\n",
              "    </tr>\n",
              "    <tr>\n",
              "      <th>1</th>\n",
              "      <td>100085508914</td>\n",
              "      <td>20150513</td>\n",
              "      <td>2.0</td>\n",
              "      <td>0.0</td>\n",
              "      <td>0.0</td>\n",
              "      <td>2</td>\n",
              "      <td>1.0</td>\n",
              "      <td>0.0</td>\n",
              "      <td>0.0</td>\n",
              "    </tr>\n",
              "    <tr>\n",
              "      <th>2</th>\n",
              "      <td>100085508914</td>\n",
              "      <td>20150514</td>\n",
              "      <td>1.0</td>\n",
              "      <td>0.0</td>\n",
              "      <td>0.0</td>\n",
              "      <td>1</td>\n",
              "      <td>1.0</td>\n",
              "      <td>0.0</td>\n",
              "      <td>0.0</td>\n",
              "    </tr>\n",
              "    <tr>\n",
              "      <th>3</th>\n",
              "      <td>100085508914</td>\n",
              "      <td>20150515</td>\n",
              "      <td>2.0</td>\n",
              "      <td>0.0</td>\n",
              "      <td>0.0</td>\n",
              "      <td>2</td>\n",
              "      <td>1.0</td>\n",
              "      <td>0.0</td>\n",
              "      <td>0.0</td>\n",
              "    </tr>\n",
              "    <tr>\n",
              "      <th>4</th>\n",
              "      <td>100085508914</td>\n",
              "      <td>20150516</td>\n",
              "      <td>0.0</td>\n",
              "      <td>1.0</td>\n",
              "      <td>0.0</td>\n",
              "      <td>1</td>\n",
              "      <td>0.0</td>\n",
              "      <td>0.0</td>\n",
              "      <td>1.0</td>\n",
              "    </tr>\n",
              "    <tr>\n",
              "      <th>...</th>\n",
              "      <td>...</td>\n",
              "      <td>...</td>\n",
              "      <td>...</td>\n",
              "      <td>...</td>\n",
              "      <td>...</td>\n",
              "      <td>...</td>\n",
              "      <td>...</td>\n",
              "      <td>...</td>\n",
              "      <td>...</td>\n",
              "    </tr>\n",
              "    <tr>\n",
              "      <th>67520</th>\n",
              "      <td>999854671457</td>\n",
              "      <td>20150513</td>\n",
              "      <td>1.0</td>\n",
              "      <td>0.0</td>\n",
              "      <td>0.0</td>\n",
              "      <td>1</td>\n",
              "      <td>1.0</td>\n",
              "      <td>0.0</td>\n",
              "      <td>0.0</td>\n",
              "    </tr>\n",
              "    <tr>\n",
              "      <th>67521</th>\n",
              "      <td>999992366004</td>\n",
              "      <td>20150511</td>\n",
              "      <td>1.0</td>\n",
              "      <td>0.0</td>\n",
              "      <td>0.0</td>\n",
              "      <td>1</td>\n",
              "      <td>1.0</td>\n",
              "      <td>0.0</td>\n",
              "      <td>0.0</td>\n",
              "    </tr>\n",
              "    <tr>\n",
              "      <th>67522</th>\n",
              "      <td>999992366004</td>\n",
              "      <td>20150512</td>\n",
              "      <td>2.0</td>\n",
              "      <td>0.0</td>\n",
              "      <td>0.0</td>\n",
              "      <td>2</td>\n",
              "      <td>1.0</td>\n",
              "      <td>0.0</td>\n",
              "      <td>0.0</td>\n",
              "    </tr>\n",
              "    <tr>\n",
              "      <th>67523</th>\n",
              "      <td>999992366004</td>\n",
              "      <td>20150514</td>\n",
              "      <td>2.0</td>\n",
              "      <td>0.0</td>\n",
              "      <td>0.0</td>\n",
              "      <td>2</td>\n",
              "      <td>1.0</td>\n",
              "      <td>0.0</td>\n",
              "      <td>0.0</td>\n",
              "    </tr>\n",
              "    <tr>\n",
              "      <th>67524</th>\n",
              "      <td>999992366004</td>\n",
              "      <td>20150515</td>\n",
              "      <td>2.0</td>\n",
              "      <td>0.0</td>\n",
              "      <td>0.0</td>\n",
              "      <td>2</td>\n",
              "      <td>1.0</td>\n",
              "      <td>0.0</td>\n",
              "      <td>0.0</td>\n",
              "    </tr>\n",
              "  </tbody>\n",
              "</table>\n",
              "<p>67525 rows × 9 columns</p>\n",
              "</div>"
            ],
            "text/plain": [
              "          driver_id  event_day  num_orders_ACCEPTED  num_orders_IGNORED  \\\n",
              "0      100049799902   20150512                  1.0                 0.0   \n",
              "1      100085508914   20150513                  2.0                 0.0   \n",
              "2      100085508914   20150514                  1.0                 0.0   \n",
              "3      100085508914   20150515                  2.0                 0.0   \n",
              "4      100085508914   20150516                  0.0                 1.0   \n",
              "...             ...        ...                  ...                 ...   \n",
              "67520  999854671457   20150513                  1.0                 0.0   \n",
              "67521  999992366004   20150511                  1.0                 0.0   \n",
              "67522  999992366004   20150512                  2.0                 0.0   \n",
              "67523  999992366004   20150514                  2.0                 0.0   \n",
              "67524  999992366004   20150515                  2.0                 0.0   \n",
              "\n",
              "       num_orders_REJECTED  num_orders_TOTAL  acceptance_rate  rejection_rate  \\\n",
              "0                      0.0                 1              1.0             0.0   \n",
              "1                      0.0                 2              1.0             0.0   \n",
              "2                      0.0                 1              1.0             0.0   \n",
              "3                      0.0                 2              1.0             0.0   \n",
              "4                      0.0                 1              0.0             0.0   \n",
              "...                    ...               ...              ...             ...   \n",
              "67520                  0.0                 1              1.0             0.0   \n",
              "67521                  0.0                 1              1.0             0.0   \n",
              "67522                  0.0                 2              1.0             0.0   \n",
              "67523                  0.0                 2              1.0             0.0   \n",
              "67524                  0.0                 2              1.0             0.0   \n",
              "\n",
              "       ignorance_rate  \n",
              "0                 0.0  \n",
              "1                 0.0  \n",
              "2                 0.0  \n",
              "3                 0.0  \n",
              "4                 1.0  \n",
              "...               ...  \n",
              "67520             0.0  \n",
              "67521             0.0  \n",
              "67522             0.0  \n",
              "67523             0.0  \n",
              "67524             0.0  \n",
              "\n",
              "[67525 rows x 9 columns]"
            ]
          },
          "execution_count": 241,
          "metadata": {},
          "output_type": "execute_result"
        }
      ],
      "source": [
        "driver_day_events = (\n",
        "    merged_df[merged_df[\"participant_status\"].isin([\"ACCEPTED\", \"IGNORED\", \"REJECTED\"])]\n",
        "    .groupby([\"driver_id\", \"event_day\", \"participant_status\"], as_index=False)\n",
        "    .agg(num_orders=pd.NamedAgg(\"order_id\", lambda x: len(set(x))))\n",
        ")\n",
        "driver_day_events = driver_day_events.pivot(\n",
        "    index=[\"driver_id\", \"event_day\"],\n",
        "    columns=[\"participant_status\"],\n",
        "    values=[\"num_orders\"],\n",
        ")\n",
        "driver_day_events.columns = [\n",
        "    \"_\".join(a) for a in driver_day_events.columns.to_flat_index()\n",
        "]\n",
        "\n",
        "driver_day_events = driver_day_events.reset_index(drop=False)\n",
        "driver_day_events.fillna(value=0.0, inplace=True)\n",
        "\n",
        "driver_day_total = merged_df.groupby([\"driver_id\", \"event_day\"], as_index=False).agg(\n",
        "    num_orders_TOTAL=pd.NamedAgg(\"order_id\", lambda x: len(set(x)))\n",
        ")\n",
        "\n",
        "driver_day_events = driver_day_events.merge(\n",
        "    driver_day_total, on=[\"driver_id\", \"event_day\"], how=\"inner\"\n",
        ")\n",
        "driver_day_events[\"acceptance_rate\"] = (\n",
        "    driver_day_events[\"num_orders_ACCEPTED\"] / driver_day_events[\"num_orders_TOTAL\"]\n",
        ")\n",
        "driver_day_events[\"rejection_rate\"] = (\n",
        "    driver_day_events[\"num_orders_REJECTED\"] / driver_day_events[\"num_orders_TOTAL\"]\n",
        ")\n",
        "driver_day_events[\"ignorance_rate\"] = (\n",
        "    driver_day_events[\"num_orders_IGNORED\"] / driver_day_events[\"num_orders_TOTAL\"]\n",
        ")\n",
        "# driver_day_events['ignore_rejection_rate'] = np.where(driver_day_events['num_orders_IGNORED']==0.0, driver_day_events['num_orders_REJECTED']/driver_day_events['num_orders_TOTAL'],\n",
        "#                                                    np.where(driver_day_events['num_orders_REJECTED']==0.0, driver_day_events['num_orders_IGNORED']/driver_day_events['num_orders_TOTAL'],0.0))\n",
        "\n",
        "driver_day_events"
      ]
    },
    {
      "cell_type": "code",
      "execution_count": 242,
      "metadata": {
        "colab": {
          "base_uri": "https://localhost:8080/",
          "height": 300
        },
        "id": "d4XlYJcjKK46",
        "outputId": "57103e3b-c051-4bbe-e57a-35f8d9cf6ba8"
      },
      "outputs": [
        {
          "data": {
            "text/html": [
              "<div>\n",
              "<style scoped>\n",
              "    .dataframe tbody tr th:only-of-type {\n",
              "        vertical-align: middle;\n",
              "    }\n",
              "\n",
              "    .dataframe tbody tr th {\n",
              "        vertical-align: top;\n",
              "    }\n",
              "\n",
              "    .dataframe thead th {\n",
              "        text-align: right;\n",
              "    }\n",
              "</style>\n",
              "<table border=\"1\" class=\"dataframe\">\n",
              "  <thead>\n",
              "    <tr style=\"text-align: right;\">\n",
              "      <th></th>\n",
              "      <th>driver_id</th>\n",
              "      <th>event_day</th>\n",
              "      <th>num_orders_ACCEPTED</th>\n",
              "      <th>num_orders_IGNORED</th>\n",
              "      <th>num_orders_REJECTED</th>\n",
              "      <th>num_orders_TOTAL</th>\n",
              "      <th>acceptance_rate</th>\n",
              "      <th>rejection_rate</th>\n",
              "      <th>ignorance_rate</th>\n",
              "    </tr>\n",
              "  </thead>\n",
              "  <tbody>\n",
              "    <tr>\n",
              "      <th>count</th>\n",
              "      <td>6.752500e+04</td>\n",
              "      <td>6.752500e+04</td>\n",
              "      <td>67525.000000</td>\n",
              "      <td>67525.000000</td>\n",
              "      <td>67525.000000</td>\n",
              "      <td>67525.000000</td>\n",
              "      <td>67525.000000</td>\n",
              "      <td>67525.000000</td>\n",
              "      <td>67525.000000</td>\n",
              "    </tr>\n",
              "    <tr>\n",
              "      <th>mean</th>\n",
              "      <td>5.522470e+11</td>\n",
              "      <td>2.015051e+07</td>\n",
              "      <td>2.676090</td>\n",
              "      <td>0.256335</td>\n",
              "      <td>0.021814</td>\n",
              "      <td>2.968752</td>\n",
              "      <td>0.901547</td>\n",
              "      <td>0.007565</td>\n",
              "      <td>0.087346</td>\n",
              "    </tr>\n",
              "    <tr>\n",
              "      <th>std</th>\n",
              "      <td>2.609924e+11</td>\n",
              "      <td>2.512509e+00</td>\n",
              "      <td>2.126046</td>\n",
              "      <td>0.790004</td>\n",
              "      <td>0.215673</td>\n",
              "      <td>2.276884</td>\n",
              "      <td>0.245317</td>\n",
              "      <td>0.071814</td>\n",
              "      <td>0.232605</td>\n",
              "    </tr>\n",
              "    <tr>\n",
              "      <th>min</th>\n",
              "      <td>1.000498e+11</td>\n",
              "      <td>2.015051e+07</td>\n",
              "      <td>0.000000</td>\n",
              "      <td>0.000000</td>\n",
              "      <td>0.000000</td>\n",
              "      <td>1.000000</td>\n",
              "      <td>0.000000</td>\n",
              "      <td>0.000000</td>\n",
              "      <td>0.000000</td>\n",
              "    </tr>\n",
              "    <tr>\n",
              "      <th>25%</th>\n",
              "      <td>3.250706e+11</td>\n",
              "      <td>2.015051e+07</td>\n",
              "      <td>1.000000</td>\n",
              "      <td>0.000000</td>\n",
              "      <td>0.000000</td>\n",
              "      <td>1.000000</td>\n",
              "      <td>1.000000</td>\n",
              "      <td>0.000000</td>\n",
              "      <td>0.000000</td>\n",
              "    </tr>\n",
              "    <tr>\n",
              "      <th>50%</th>\n",
              "      <td>5.511356e+11</td>\n",
              "      <td>2.015051e+07</td>\n",
              "      <td>2.000000</td>\n",
              "      <td>0.000000</td>\n",
              "      <td>0.000000</td>\n",
              "      <td>2.000000</td>\n",
              "      <td>1.000000</td>\n",
              "      <td>0.000000</td>\n",
              "      <td>0.000000</td>\n",
              "    </tr>\n",
              "    <tr>\n",
              "      <th>75%</th>\n",
              "      <td>7.789959e+11</td>\n",
              "      <td>2.015052e+07</td>\n",
              "      <td>4.000000</td>\n",
              "      <td>0.000000</td>\n",
              "      <td>0.000000</td>\n",
              "      <td>4.000000</td>\n",
              "      <td>1.000000</td>\n",
              "      <td>0.000000</td>\n",
              "      <td>0.000000</td>\n",
              "    </tr>\n",
              "    <tr>\n",
              "      <th>max</th>\n",
              "      <td>9.999924e+11</td>\n",
              "      <td>2.015052e+07</td>\n",
              "      <td>16.000000</td>\n",
              "      <td>36.000000</td>\n",
              "      <td>15.000000</td>\n",
              "      <td>37.000000</td>\n",
              "      <td>1.000000</td>\n",
              "      <td>1.000000</td>\n",
              "      <td>1.000000</td>\n",
              "    </tr>\n",
              "  </tbody>\n",
              "</table>\n",
              "</div>"
            ],
            "text/plain": [
              "          driver_id     event_day  num_orders_ACCEPTED  num_orders_IGNORED  \\\n",
              "count  6.752500e+04  6.752500e+04         67525.000000        67525.000000   \n",
              "mean   5.522470e+11  2.015051e+07             2.676090            0.256335   \n",
              "std    2.609924e+11  2.512509e+00             2.126046            0.790004   \n",
              "min    1.000498e+11  2.015051e+07             0.000000            0.000000   \n",
              "25%    3.250706e+11  2.015051e+07             1.000000            0.000000   \n",
              "50%    5.511356e+11  2.015051e+07             2.000000            0.000000   \n",
              "75%    7.789959e+11  2.015052e+07             4.000000            0.000000   \n",
              "max    9.999924e+11  2.015052e+07            16.000000           36.000000   \n",
              "\n",
              "       num_orders_REJECTED  num_orders_TOTAL  acceptance_rate  rejection_rate  \\\n",
              "count         67525.000000      67525.000000     67525.000000    67525.000000   \n",
              "mean              0.021814          2.968752         0.901547        0.007565   \n",
              "std               0.215673          2.276884         0.245317        0.071814   \n",
              "min               0.000000          1.000000         0.000000        0.000000   \n",
              "25%               0.000000          1.000000         1.000000        0.000000   \n",
              "50%               0.000000          2.000000         1.000000        0.000000   \n",
              "75%               0.000000          4.000000         1.000000        0.000000   \n",
              "max              15.000000         37.000000         1.000000        1.000000   \n",
              "\n",
              "       ignorance_rate  \n",
              "count    67525.000000  \n",
              "mean         0.087346  \n",
              "std          0.232605  \n",
              "min          0.000000  \n",
              "25%          0.000000  \n",
              "50%          0.000000  \n",
              "75%          0.000000  \n",
              "max          1.000000  "
            ]
          },
          "execution_count": 242,
          "metadata": {},
          "output_type": "execute_result"
        }
      ],
      "source": [
        "driver_day_events.describe()"
      ]
    },
    {
      "cell_type": "code",
      "execution_count": 243,
      "metadata": {
        "id": "K0f38kxQKK46"
      },
      "outputs": [],
      "source": [
        "# driver_day_events = (\n",
        "#     merged_df[merged_df['participant_status'].isin(['ACCEPTED','REJECTED','IGNORED'])].groupby(\n",
        "#         ['driver_id','participant_status','event_day'], as_index = False\n",
        "#     ).agg(num_orders = pd.NamedAgg('order_id', lambda x: len(set(x))))\n",
        "# )\n",
        "# # print(driver_day_events)\n",
        "# # print(driver_day_events['participant_status'].unique())\n",
        "\n",
        "# driver_day_events = driver_day_events.pivot(index = ['driver_id','event_day'], columns = ['participant_status'], values = ['num_orders'])\n",
        "# driver_day_events.columns = ['_'.join(a) for a in driver_day_events.columns.to_flat_index()]\n",
        "# driver_day_events = driver_day_events.reset_index(drop = False)\n",
        "# driver_day_events.fillna(0.0, inplace = True)\n",
        "# print(driver_day_events)\n",
        "# print(driver_day_events.shape)\n",
        "# print(driver_day_events.driver_id.nunique())"
      ]
    },
    {
      "cell_type": "code",
      "execution_count": 244,
      "metadata": {
        "id": "dXiOBHrXKK46"
      },
      "outputs": [],
      "source": [
        "# driver_day_total = merged_df.groupby(['event_day','driver_id'], as_index= False).agg(num_of_total = pd.NamedAgg('order_id', lambda x: len(set(x))))\n",
        "# # print(driver_day_total)\n",
        "# print(driver_day_total.shape)\n",
        "# print(driver_day_total.driver_id.nunique())\n",
        "\n",
        "# driver_day_fin = driver_day_events.merge(driver_day_total, on = ['driver_id','event_day'], how = 'inner')\n",
        "# print(driver_day_fin)\n",
        "# print(driver_day_fin.shape)\n",
        "# print(driver_day_fin.driver_id.shape)"
      ]
    },
    {
      "cell_type": "code",
      "execution_count": 245,
      "metadata": {
        "id": "xkAf6PKoKK46"
      },
      "outputs": [],
      "source": [
        "# driver_day_fin['acceptance_rate'] = driver_day_fin['num_orders_ACCEPTED']/driver_day_fin['num_of_total']\n",
        "# driver_day_fin['rejection_rate'] = driver_day_fin['num_orders_REJECTED']/driver_day_fin['num_of_total']\n",
        "# driver_day_fin['ignore_rate'] = driver_day_fin['num_orders_IGNORED']/driver_day_fin['num_of_total']\n",
        "# driver_day_fin['ignore_rejection_rate'] = np.where(driver_day_fin['num_orders_IGNORED']==0.0, driver_day_fin['num_orders_REJECTED']/driver_day_fin['num_of_total'],\n",
        "#                                                    np.where(driver_day_fin['num_orders_REJECTED']==0.0, driver_day_fin['num_orders_IGNORED']/driver_day_fin['num_of_total'],0.0))\n",
        "# print(driver_day_fin.describe())"
      ]
    },
    {
      "cell_type": "code",
      "execution_count": 246,
      "metadata": {
        "id": "_pnpJzuDKK46"
      },
      "outputs": [],
      "source": [
        "# driver_day_fin[driver_day_fin['num_of_total']==0]"
      ]
    },
    {
      "cell_type": "code",
      "execution_count": 247,
      "metadata": {
        "id": "UC5i1-HGKK46"
      },
      "outputs": [],
      "source": [
        "driver_day_events = driver_day_events.merge(\n",
        "    driver_day_events, on=[\"driver_id\"], how=\"left\"\n",
        ")\n",
        "driver_day_events = driver_day_events.loc[\n",
        "    driver_day_events[\"event_day_x\"] > driver_day_events[\"event_day_y\"]\n",
        "]\n",
        "driver_day_events = driver_day_events.groupby(\n",
        "    by=[\"driver_id\", \"event_day_x\"], as_index=False\n",
        ").agg(\n",
        "    acceptance_rate=pd.NamedAgg(\"acceptance_rate_y\", \"mean\"),\n",
        "    rejection_rate=pd.NamedAgg(\"rejection_rate_y\", \"mean\"),\n",
        "    ignorance_rate=pd.NamedAgg(\"ignorance_rate_y\", \"mean\"),\n",
        "    # ignore_rejection_rate = pd.NamedAgg('ignore_rejection_rate_y', 'mean'),\n",
        "    num_orders=pd.NamedAgg(\"num_orders_TOTAL_y\", \"sum\"),\n",
        ")\n",
        "driver_day_events = driver_day_events.rename(columns={\"event_day_x\": \"event_day\"})"
      ]
    },
    {
      "cell_type": "code",
      "execution_count": 248,
      "metadata": {
        "colab": {
          "base_uri": "https://localhost:8080/",
          "height": 300
        },
        "id": "v0qswyQnKK46",
        "outputId": "9c99d7e6-5498-4c1b-afe3-b7e3395f57b8"
      },
      "outputs": [
        {
          "data": {
            "text/html": [
              "<div>\n",
              "<style scoped>\n",
              "    .dataframe tbody tr th:only-of-type {\n",
              "        vertical-align: middle;\n",
              "    }\n",
              "\n",
              "    .dataframe tbody tr th {\n",
              "        vertical-align: top;\n",
              "    }\n",
              "\n",
              "    .dataframe thead th {\n",
              "        text-align: right;\n",
              "    }\n",
              "</style>\n",
              "<table border=\"1\" class=\"dataframe\">\n",
              "  <thead>\n",
              "    <tr style=\"text-align: right;\">\n",
              "      <th></th>\n",
              "      <th>driver_id</th>\n",
              "      <th>event_day</th>\n",
              "      <th>acceptance_rate</th>\n",
              "      <th>rejection_rate</th>\n",
              "      <th>ignorance_rate</th>\n",
              "      <th>num_orders</th>\n",
              "    </tr>\n",
              "  </thead>\n",
              "  <tbody>\n",
              "    <tr>\n",
              "      <th>count</th>\n",
              "      <td>5.262900e+04</td>\n",
              "      <td>5.262900e+04</td>\n",
              "      <td>52629.000000</td>\n",
              "      <td>52629.000000</td>\n",
              "      <td>52629.000000</td>\n",
              "      <td>52629.000000</td>\n",
              "    </tr>\n",
              "    <tr>\n",
              "      <th>mean</th>\n",
              "      <td>5.524375e+11</td>\n",
              "      <td>2.015051e+07</td>\n",
              "      <td>0.906307</td>\n",
              "      <td>0.006624</td>\n",
              "      <td>0.083375</td>\n",
              "      <td>10.498128</td>\n",
              "    </tr>\n",
              "    <tr>\n",
              "      <th>std</th>\n",
              "      <td>2.609971e+11</td>\n",
              "      <td>2.173234e+00</td>\n",
              "      <td>0.185958</td>\n",
              "      <td>0.053947</td>\n",
              "      <td>0.174980</td>\n",
              "      <td>9.864395</td>\n",
              "    </tr>\n",
              "    <tr>\n",
              "      <th>min</th>\n",
              "      <td>1.000855e+11</td>\n",
              "      <td>2.015051e+07</td>\n",
              "      <td>0.000000</td>\n",
              "      <td>0.000000</td>\n",
              "      <td>0.000000</td>\n",
              "      <td>1.000000</td>\n",
              "    </tr>\n",
              "    <tr>\n",
              "      <th>25%</th>\n",
              "      <td>3.253732e+11</td>\n",
              "      <td>2.015051e+07</td>\n",
              "      <td>0.888889</td>\n",
              "      <td>0.000000</td>\n",
              "      <td>0.000000</td>\n",
              "      <td>3.000000</td>\n",
              "    </tr>\n",
              "    <tr>\n",
              "      <th>50%</th>\n",
              "      <td>5.509641e+11</td>\n",
              "      <td>2.015052e+07</td>\n",
              "      <td>1.000000</td>\n",
              "      <td>0.000000</td>\n",
              "      <td>0.000000</td>\n",
              "      <td>7.000000</td>\n",
              "    </tr>\n",
              "    <tr>\n",
              "      <th>75%</th>\n",
              "      <td>7.792894e+11</td>\n",
              "      <td>2.015052e+07</td>\n",
              "      <td>1.000000</td>\n",
              "      <td>0.000000</td>\n",
              "      <td>0.093750</td>\n",
              "      <td>15.000000</td>\n",
              "    </tr>\n",
              "    <tr>\n",
              "      <th>max</th>\n",
              "      <td>9.999924e+11</td>\n",
              "      <td>2.015052e+07</td>\n",
              "      <td>1.000000</td>\n",
              "      <td>1.000000</td>\n",
              "      <td>1.000000</td>\n",
              "      <td>79.000000</td>\n",
              "    </tr>\n",
              "  </tbody>\n",
              "</table>\n",
              "</div>"
            ],
            "text/plain": [
              "          driver_id     event_day  acceptance_rate  rejection_rate  \\\n",
              "count  5.262900e+04  5.262900e+04     52629.000000    52629.000000   \n",
              "mean   5.524375e+11  2.015051e+07         0.906307        0.006624   \n",
              "std    2.609971e+11  2.173234e+00         0.185958        0.053947   \n",
              "min    1.000855e+11  2.015051e+07         0.000000        0.000000   \n",
              "25%    3.253732e+11  2.015051e+07         0.888889        0.000000   \n",
              "50%    5.509641e+11  2.015052e+07         1.000000        0.000000   \n",
              "75%    7.792894e+11  2.015052e+07         1.000000        0.000000   \n",
              "max    9.999924e+11  2.015052e+07         1.000000        1.000000   \n",
              "\n",
              "       ignorance_rate    num_orders  \n",
              "count    52629.000000  52629.000000  \n",
              "mean         0.083375     10.498128  \n",
              "std          0.174980      9.864395  \n",
              "min          0.000000      1.000000  \n",
              "25%          0.000000      3.000000  \n",
              "50%          0.000000      7.000000  \n",
              "75%          0.093750     15.000000  \n",
              "max          1.000000     79.000000  "
            ]
          },
          "execution_count": 248,
          "metadata": {},
          "output_type": "execute_result"
        }
      ],
      "source": [
        "driver_day_events.describe()"
      ]
    },
    {
      "cell_type": "code",
      "execution_count": 249,
      "metadata": {
        "colab": {
          "base_uri": "https://localhost:8080/",
          "height": 313
        },
        "id": "ov5k1xeyKK46",
        "outputId": "749ce53d-12b8-4c13-c0f6-aa5b6982048d"
      },
      "outputs": [
        {
          "data": {
            "text/html": [
              "<div>\n",
              "<style scoped>\n",
              "    .dataframe tbody tr th:only-of-type {\n",
              "        vertical-align: middle;\n",
              "    }\n",
              "\n",
              "    .dataframe tbody tr th {\n",
              "        vertical-align: top;\n",
              "    }\n",
              "\n",
              "    .dataframe thead th {\n",
              "        text-align: right;\n",
              "    }\n",
              "</style>\n",
              "<table border=\"1\" class=\"dataframe\">\n",
              "  <thead>\n",
              "    <tr style=\"text-align: right;\">\n",
              "      <th></th>\n",
              "      <th>event_timestamp</th>\n",
              "      <th>driver_id</th>\n",
              "      <th>participant_status</th>\n",
              "      <th>order_id</th>\n",
              "      <th>experiment_key</th>\n",
              "      <th>driver_latitude</th>\n",
              "      <th>driver_longitude</th>\n",
              "      <th>driver_gps_accuracy</th>\n",
              "      <th>trip_distance</th>\n",
              "      <th>pickup_latitude</th>\n",
              "      <th>pickup_longitude</th>\n",
              "      <th>event_day</th>\n",
              "    </tr>\n",
              "  </thead>\n",
              "  <tbody>\n",
              "    <tr>\n",
              "      <th>0</th>\n",
              "      <td>2015-05-18 11:45:19.519 UTC</td>\n",
              "      <td>110283102582</td>\n",
              "      <td>CREATED</td>\n",
              "      <td>938125906616</td>\n",
              "      <td>309579604593</td>\n",
              "      <td>-2.981389</td>\n",
              "      <td>104.761898</td>\n",
              "      <td>2.0</td>\n",
              "      <td>5.601</td>\n",
              "      <td>-2.980337</td>\n",
              "      <td>104.761200</td>\n",
              "      <td>20150518</td>\n",
              "    </tr>\n",
              "    <tr>\n",
              "      <th>1</th>\n",
              "      <td>2015-05-18 11:45:29.8 UTC</td>\n",
              "      <td>110283102582</td>\n",
              "      <td>ACCEPTED</td>\n",
              "      <td>938125906616</td>\n",
              "      <td>309579604593</td>\n",
              "      <td>-2.981389</td>\n",
              "      <td>104.761898</td>\n",
              "      <td>2.0</td>\n",
              "      <td>5.601</td>\n",
              "      <td>-2.980337</td>\n",
              "      <td>104.761200</td>\n",
              "      <td>20150518</td>\n",
              "    </tr>\n",
              "    <tr>\n",
              "      <th>2</th>\n",
              "      <td>2015-05-11 10:35:57.021 UTC</td>\n",
              "      <td>126346998414</td>\n",
              "      <td>CREATED</td>\n",
              "      <td>992080359113</td>\n",
              "      <td>941995970460</td>\n",
              "      <td>-2.966915</td>\n",
              "      <td>104.748040</td>\n",
              "      <td>2.0</td>\n",
              "      <td>1.744</td>\n",
              "      <td>-2.968359</td>\n",
              "      <td>104.749344</td>\n",
              "      <td>20150511</td>\n",
              "    </tr>\n",
              "    <tr>\n",
              "      <th>3</th>\n",
              "      <td>2015-05-11 10:36:01.148 UTC</td>\n",
              "      <td>126346998414</td>\n",
              "      <td>ACCEPTED</td>\n",
              "      <td>992080359113</td>\n",
              "      <td>941995970460</td>\n",
              "      <td>-2.966915</td>\n",
              "      <td>104.748040</td>\n",
              "      <td>2.0</td>\n",
              "      <td>1.744</td>\n",
              "      <td>-2.968359</td>\n",
              "      <td>104.749344</td>\n",
              "      <td>20150511</td>\n",
              "    </tr>\n",
              "    <tr>\n",
              "      <th>4</th>\n",
              "      <td>2015-05-16 12:34:20.044 UTC</td>\n",
              "      <td>199325048812</td>\n",
              "      <td>ACCEPTED</td>\n",
              "      <td>797723880713</td>\n",
              "      <td>197604093364</td>\n",
              "      <td>-3.014740</td>\n",
              "      <td>104.694647</td>\n",
              "      <td>2.0</td>\n",
              "      <td>2.505</td>\n",
              "      <td>-3.013223</td>\n",
              "      <td>104.700030</td>\n",
              "      <td>20150516</td>\n",
              "    </tr>\n",
              "  </tbody>\n",
              "</table>\n",
              "</div>"
            ],
            "text/plain": [
              "               event_timestamp     driver_id participant_status      order_id  \\\n",
              "0  2015-05-18 11:45:19.519 UTC  110283102582            CREATED  938125906616   \n",
              "1    2015-05-18 11:45:29.8 UTC  110283102582           ACCEPTED  938125906616   \n",
              "2  2015-05-11 10:35:57.021 UTC  126346998414            CREATED  992080359113   \n",
              "3  2015-05-11 10:36:01.148 UTC  126346998414           ACCEPTED  992080359113   \n",
              "4  2015-05-16 12:34:20.044 UTC  199325048812           ACCEPTED  797723880713   \n",
              "\n",
              "   experiment_key  driver_latitude  driver_longitude  driver_gps_accuracy  \\\n",
              "0    309579604593        -2.981389        104.761898                  2.0   \n",
              "1    309579604593        -2.981389        104.761898                  2.0   \n",
              "2    941995970460        -2.966915        104.748040                  2.0   \n",
              "3    941995970460        -2.966915        104.748040                  2.0   \n",
              "4    197604093364        -3.014740        104.694647                  2.0   \n",
              "\n",
              "   trip_distance  pickup_latitude  pickup_longitude  event_day  \n",
              "0          5.601        -2.980337        104.761200   20150518  \n",
              "1          5.601        -2.980337        104.761200   20150518  \n",
              "2          1.744        -2.968359        104.749344   20150511  \n",
              "3          1.744        -2.968359        104.749344   20150511  \n",
              "4          2.505        -3.013223        104.700030   20150516  "
            ]
          },
          "execution_count": 249,
          "metadata": {},
          "output_type": "execute_result"
        }
      ],
      "source": [
        "merged_df.shape\n",
        "merged_df.head()"
      ]
    },
    {
      "cell_type": "code",
      "execution_count": 250,
      "metadata": {
        "id": "CKam0YzrKK47"
      },
      "outputs": [],
      "source": [
        "merged_df[\"event_ts\"] = merged_df[\"event_timestamp\"].apply(robust_iso_date)\n",
        "merged_df = merged_df.sort_values(by=\"event_ts\", ascending=True)\n",
        "merged_df = merged_df.drop_duplicates(subset=[\"order_id\", \"driver_id\"], keep=\"last\")"
      ]
    },
    {
      "cell_type": "code",
      "execution_count": 251,
      "metadata": {
        "colab": {
          "base_uri": "https://localhost:8080/"
        },
        "id": "lqQzJAauTsLT",
        "outputId": "5e72256f-1bad-476c-b390-9d2678ba542a"
      },
      "outputs": [
        {
          "name": "stdout",
          "output_type": "stream",
          "text": [
            "participant_status\n",
            "ACCEPTED    180703\n",
            "IGNORED      17309\n",
            "REJECTED      1473\n",
            "CREATED       1134\n",
            "Name: count, dtype: int64\n",
            "(200619, 13)\n"
          ]
        }
      ],
      "source": [
        "print(merged_df[\"participant_status\"].value_counts())\n",
        "print(merged_df.shape)"
      ]
    },
    {
      "cell_type": "code",
      "execution_count": 252,
      "metadata": {
        "id": "YbdcrW_dKK47"
      },
      "outputs": [],
      "source": [
        "# print(merged_df['participant_status'].value_counts())\n",
        "# print(merged_df.shape)"
      ]
    },
    {
      "cell_type": "code",
      "execution_count": 253,
      "metadata": {
        "colab": {
          "base_uri": "https://localhost:8080/"
        },
        "id": "J_us7DhJKK47",
        "outputId": "ece4f4e3-b531-4ae7-84be-55bdcc9dd92c"
      },
      "outputs": [
        {
          "data": {
            "text/plain": [
              "is_completed\n",
              "1    180703\n",
              "0     19916\n",
              "Name: count, dtype: int64"
            ]
          },
          "execution_count": 253,
          "metadata": {},
          "output_type": "execute_result"
        }
      ],
      "source": [
        "merged_df[\"is_completed\"] = merged_df[\"participant_status\"].apply(\n",
        "    lambda x: int(x == \"ACCEPTED\")\n",
        ")\n",
        "\n",
        "merged_df[\"is_completed\"].value_counts()"
      ]
    },
    {
      "cell_type": "code",
      "execution_count": 254,
      "metadata": {
        "colab": {
          "base_uri": "https://localhost:8080/"
        },
        "id": "8keGRDbFKK47",
        "outputId": "1089852a-7c83-4ca9-c6b9-e73c0066cbf7"
      },
      "outputs": [
        {
          "name": "stdout",
          "output_type": "stream",
          "text": [
            "Index(['event_timestamp', 'driver_id', 'participant_status', 'order_id',\n",
            "       'experiment_key', 'driver_latitude', 'driver_longitude',\n",
            "       'driver_gps_accuracy', 'trip_distance', 'pickup_latitude',\n",
            "       'pickup_longitude', 'event_day', 'event_ts', 'is_completed'],\n",
            "      dtype='object')\n",
            "participant_status\n",
            "ACCEPTED    180703\n",
            "IGNORED      17309\n",
            "REJECTED      1473\n",
            "CREATED       1134\n",
            "Name: count, dtype: int64\n"
          ]
        }
      ],
      "source": [
        "print(merged_df.columns)\n",
        "print(merged_df[\"participant_status\"].value_counts())"
      ]
    },
    {
      "cell_type": "code",
      "execution_count": 255,
      "metadata": {
        "colab": {
          "base_uri": "https://localhost:8080/"
        },
        "id": "lLegk3UsKK47",
        "outputId": "ee6e44e3-2604-4347-98c3-56843693edc2"
      },
      "outputs": [
        {
          "data": {
            "text/plain": [
              "Index(['event_timestamp', 'driver_id', 'order_id', 'driver_latitude',\n",
              "       'driver_longitude', 'driver_gps_accuracy', 'trip_distance',\n",
              "       'pickup_latitude', 'pickup_longitude', 'event_day', 'event_ts',\n",
              "       'is_completed'],\n",
              "      dtype='object')"
            ]
          },
          "execution_count": 255,
          "metadata": {},
          "output_type": "execute_result"
        }
      ],
      "source": [
        "merged_df = merged_df.drop(columns=[\"experiment_key\", \"participant_status\"])\n",
        "merged_df.columns"
      ]
    },
    {
      "cell_type": "code",
      "execution_count": 256,
      "metadata": {
        "colab": {
          "base_uri": "https://localhost:8080/"
        },
        "id": "td1OxXbYKK5D",
        "outputId": "40aa98d7-f1ce-4035-d581-5ba94d8ec241"
      },
      "outputs": [
        {
          "name": "stdout",
          "output_type": "stream",
          "text": [
            "(200619, 12)\n",
            "14913\n",
            "179697\n",
            "(52629, 6)\n",
            "12605\n"
          ]
        }
      ],
      "source": [
        "print(merged_df.shape)\n",
        "print(merged_df[\"driver_id\"].nunique())\n",
        "print(merged_df[\"order_id\"].nunique())\n",
        "print(driver_day_events.shape)\n",
        "print(driver_day_events[\"driver_id\"].nunique())"
      ]
    },
    {
      "cell_type": "code",
      "execution_count": 257,
      "metadata": {
        "colab": {
          "base_uri": "https://localhost:8080/",
          "height": 313
        },
        "id": "6veku0ArKK5D",
        "outputId": "a84d3681-a037-4d2d-e5c3-b8dc55d91b37"
      },
      "outputs": [
        {
          "data": {
            "text/html": [
              "<div>\n",
              "<style scoped>\n",
              "    .dataframe tbody tr th:only-of-type {\n",
              "        vertical-align: middle;\n",
              "    }\n",
              "\n",
              "    .dataframe tbody tr th {\n",
              "        vertical-align: top;\n",
              "    }\n",
              "\n",
              "    .dataframe thead th {\n",
              "        text-align: right;\n",
              "    }\n",
              "</style>\n",
              "<table border=\"1\" class=\"dataframe\">\n",
              "  <thead>\n",
              "    <tr style=\"text-align: right;\">\n",
              "      <th></th>\n",
              "      <th>event_timestamp</th>\n",
              "      <th>driver_id</th>\n",
              "      <th>order_id</th>\n",
              "      <th>driver_latitude</th>\n",
              "      <th>driver_longitude</th>\n",
              "      <th>driver_gps_accuracy</th>\n",
              "      <th>trip_distance</th>\n",
              "      <th>pickup_latitude</th>\n",
              "      <th>pickup_longitude</th>\n",
              "      <th>event_ts</th>\n",
              "      <th>is_completed</th>\n",
              "      <th>acceptance_rate</th>\n",
              "      <th>rejection_rate</th>\n",
              "      <th>ignorance_rate</th>\n",
              "      <th>num_orders</th>\n",
              "    </tr>\n",
              "  </thead>\n",
              "  <tbody>\n",
              "    <tr>\n",
              "      <th>0</th>\n",
              "      <td>2015-05-10 00:00:12.963 UTC</td>\n",
              "      <td>288223322155</td>\n",
              "      <td>257432374014</td>\n",
              "      <td>-2.995167</td>\n",
              "      <td>104.767443</td>\n",
              "      <td>87.600</td>\n",
              "      <td>1.428</td>\n",
              "      <td>-2.994609</td>\n",
              "      <td>104.767860</td>\n",
              "      <td>2015-05-10 00:00:12.963</td>\n",
              "      <td>1</td>\n",
              "      <td>NaN</td>\n",
              "      <td>NaN</td>\n",
              "      <td>NaN</td>\n",
              "      <td>NaN</td>\n",
              "    </tr>\n",
              "    <tr>\n",
              "      <th>1</th>\n",
              "      <td>2015-05-10 00:00:19.926 UTC</td>\n",
              "      <td>869163565780</td>\n",
              "      <td>613128887100</td>\n",
              "      <td>-2.919218</td>\n",
              "      <td>104.716482</td>\n",
              "      <td>3.000</td>\n",
              "      <td>5.212</td>\n",
              "      <td>-2.921464</td>\n",
              "      <td>104.717112</td>\n",
              "      <td>2015-05-10 00:00:19.926</td>\n",
              "      <td>1</td>\n",
              "      <td>NaN</td>\n",
              "      <td>NaN</td>\n",
              "      <td>NaN</td>\n",
              "      <td>NaN</td>\n",
              "    </tr>\n",
              "    <tr>\n",
              "      <th>2</th>\n",
              "      <td>2015-05-10 00:00:21.298 UTC</td>\n",
              "      <td>552835747248</td>\n",
              "      <td>811842312011</td>\n",
              "      <td>-2.932598</td>\n",
              "      <td>104.789056</td>\n",
              "      <td>4.348</td>\n",
              "      <td>2.501</td>\n",
              "      <td>-2.936892</td>\n",
              "      <td>104.792555</td>\n",
              "      <td>2015-05-10 00:00:21.298</td>\n",
              "      <td>1</td>\n",
              "      <td>NaN</td>\n",
              "      <td>NaN</td>\n",
              "      <td>NaN</td>\n",
              "      <td>NaN</td>\n",
              "    </tr>\n",
              "    <tr>\n",
              "      <th>3</th>\n",
              "      <td>2015-05-10 00:00:21.48 UTC</td>\n",
              "      <td>484447596668</td>\n",
              "      <td>719189764913</td>\n",
              "      <td>-3.012998</td>\n",
              "      <td>104.746118</td>\n",
              "      <td>3.900</td>\n",
              "      <td>7.718</td>\n",
              "      <td>-3.012023</td>\n",
              "      <td>104.746139</td>\n",
              "      <td>2015-05-10 00:00:21.480</td>\n",
              "      <td>1</td>\n",
              "      <td>NaN</td>\n",
              "      <td>NaN</td>\n",
              "      <td>NaN</td>\n",
              "      <td>NaN</td>\n",
              "    </tr>\n",
              "    <tr>\n",
              "      <th>4</th>\n",
              "      <td>2015-05-10 00:00:24.063 UTC</td>\n",
              "      <td>678397441848</td>\n",
              "      <td>518904942900</td>\n",
              "      <td>-2.975489</td>\n",
              "      <td>104.723962</td>\n",
              "      <td>4.251</td>\n",
              "      <td>3.175</td>\n",
              "      <td>-2.972137</td>\n",
              "      <td>104.724829</td>\n",
              "      <td>2015-05-10 00:00:24.063</td>\n",
              "      <td>1</td>\n",
              "      <td>NaN</td>\n",
              "      <td>NaN</td>\n",
              "      <td>NaN</td>\n",
              "      <td>NaN</td>\n",
              "    </tr>\n",
              "  </tbody>\n",
              "</table>\n",
              "</div>"
            ],
            "text/plain": [
              "               event_timestamp     driver_id      order_id  driver_latitude  \\\n",
              "0  2015-05-10 00:00:12.963 UTC  288223322155  257432374014        -2.995167   \n",
              "1  2015-05-10 00:00:19.926 UTC  869163565780  613128887100        -2.919218   \n",
              "2  2015-05-10 00:00:21.298 UTC  552835747248  811842312011        -2.932598   \n",
              "3   2015-05-10 00:00:21.48 UTC  484447596668  719189764913        -3.012998   \n",
              "4  2015-05-10 00:00:24.063 UTC  678397441848  518904942900        -2.975489   \n",
              "\n",
              "   driver_longitude  driver_gps_accuracy  trip_distance  pickup_latitude  \\\n",
              "0        104.767443               87.600          1.428        -2.994609   \n",
              "1        104.716482                3.000          5.212        -2.921464   \n",
              "2        104.789056                4.348          2.501        -2.936892   \n",
              "3        104.746118                3.900          7.718        -3.012023   \n",
              "4        104.723962                4.251          3.175        -2.972137   \n",
              "\n",
              "   pickup_longitude                event_ts  is_completed  acceptance_rate  \\\n",
              "0        104.767860 2015-05-10 00:00:12.963             1              NaN   \n",
              "1        104.717112 2015-05-10 00:00:19.926             1              NaN   \n",
              "2        104.792555 2015-05-10 00:00:21.298             1              NaN   \n",
              "3        104.746139 2015-05-10 00:00:21.480             1              NaN   \n",
              "4        104.724829 2015-05-10 00:00:24.063             1              NaN   \n",
              "\n",
              "   rejection_rate  ignorance_rate  num_orders  \n",
              "0             NaN             NaN         NaN  \n",
              "1             NaN             NaN         NaN  \n",
              "2             NaN             NaN         NaN  \n",
              "3             NaN             NaN         NaN  \n",
              "4             NaN             NaN         NaN  "
            ]
          },
          "execution_count": 257,
          "metadata": {},
          "output_type": "execute_result"
        }
      ],
      "source": [
        "merged_df = merged_df.merge(\n",
        "    driver_day_events, on=[\"driver_id\", \"event_day\"], how=\"left\"\n",
        ")\n",
        "merged_df = merged_df.drop(columns=[\"event_day\"])\n",
        "# merged_df = merged_df.loc[merged_df['event_day_x']>merged_df['event_day_y']]\n",
        "merged_df.head()"
      ]
    },
    {
      "cell_type": "code",
      "execution_count": 258,
      "metadata": {
        "colab": {
          "base_uri": "https://localhost:8080/",
          "height": 312
        },
        "id": "RrOZi90OKK5D",
        "outputId": "86e5e741-9abc-4dac-c858-13398d82e887"
      },
      "outputs": [
        {
          "name": "stdout",
          "output_type": "stream",
          "text": [
            "(200619, 15)\n"
          ]
        },
        {
          "data": {
            "text/plain": [
              "event_timestamp            0\n",
              "driver_id                  0\n",
              "order_id                   0\n",
              "driver_latitude            0\n",
              "driver_longitude           0\n",
              "driver_gps_accuracy        0\n",
              "trip_distance              0\n",
              "pickup_latitude            0\n",
              "pickup_longitude           0\n",
              "event_ts                   0\n",
              "is_completed               0\n",
              "acceptance_rate        35267\n",
              "rejection_rate         35267\n",
              "ignorance_rate         35267\n",
              "num_orders             35267\n",
              "dtype: int64"
            ]
          },
          "metadata": {},
          "output_type": "display_data"
        }
      ],
      "source": [
        "print(merged_df.shape)\n",
        "display(merged_df.isna().sum())"
      ]
    },
    {
      "cell_type": "code",
      "execution_count": 259,
      "metadata": {
        "id": "rrhDPAALKK5D"
      },
      "outputs": [],
      "source": [
        "merged_df.fillna(0.0, inplace=True)"
      ]
    },
    {
      "cell_type": "code",
      "execution_count": null,
      "metadata": {
        "id": "03XazyH4UmT-"
      },
      "outputs": [],
      "source": []
    },
    {
      "cell_type": "code",
      "execution_count": 260,
      "metadata": {
        "id": "yIsVfhgYKK5D"
      },
      "outputs": [],
      "source": [
        "# merged_df[\"event_timestamp\"] = merged_df[\"event_timestamp\"].apply(robust_hour_of_iso_date)\n",
        "merged_df[\"event_hour\"] = merged_df[\"event_timestamp\"].apply(robust_hour_of_iso_date)\n",
        "merged_df[\"event_weekday\"] = merged_df[\"event_timestamp\"].apply(\n",
        "    robust_weekday_of_iso_date\n",
        ")"
      ]
    },
    {
      "cell_type": "code",
      "execution_count": 261,
      "metadata": {
        "colab": {
          "base_uri": "https://localhost:8080/",
          "height": 313
        },
        "id": "fsnozmtZKK5D",
        "outputId": "598afaec-3b64-4fd9-f29b-62d70fa6009b"
      },
      "outputs": [
        {
          "data": {
            "text/html": [
              "<div>\n",
              "<style scoped>\n",
              "    .dataframe tbody tr th:only-of-type {\n",
              "        vertical-align: middle;\n",
              "    }\n",
              "\n",
              "    .dataframe tbody tr th {\n",
              "        vertical-align: top;\n",
              "    }\n",
              "\n",
              "    .dataframe thead th {\n",
              "        text-align: right;\n",
              "    }\n",
              "</style>\n",
              "<table border=\"1\" class=\"dataframe\">\n",
              "  <thead>\n",
              "    <tr style=\"text-align: right;\">\n",
              "      <th></th>\n",
              "      <th>event_timestamp</th>\n",
              "      <th>driver_id</th>\n",
              "      <th>order_id</th>\n",
              "      <th>driver_latitude</th>\n",
              "      <th>driver_longitude</th>\n",
              "      <th>driver_gps_accuracy</th>\n",
              "      <th>trip_distance</th>\n",
              "      <th>pickup_latitude</th>\n",
              "      <th>pickup_longitude</th>\n",
              "      <th>event_ts</th>\n",
              "      <th>is_completed</th>\n",
              "      <th>acceptance_rate</th>\n",
              "      <th>rejection_rate</th>\n",
              "      <th>ignorance_rate</th>\n",
              "      <th>num_orders</th>\n",
              "      <th>event_hour</th>\n",
              "      <th>event_weekday</th>\n",
              "      <th>driver_distance</th>\n",
              "    </tr>\n",
              "  </thead>\n",
              "  <tbody>\n",
              "    <tr>\n",
              "      <th>0</th>\n",
              "      <td>2015-05-10 00:00:12.963 UTC</td>\n",
              "      <td>288223322155</td>\n",
              "      <td>257432374014</td>\n",
              "      <td>-2.995167</td>\n",
              "      <td>104.767443</td>\n",
              "      <td>87.600</td>\n",
              "      <td>1.428</td>\n",
              "      <td>-2.994609</td>\n",
              "      <td>104.767860</td>\n",
              "      <td>2015-05-10 00:00:12.963</td>\n",
              "      <td>1</td>\n",
              "      <td>0.0</td>\n",
              "      <td>0.0</td>\n",
              "      <td>0.0</td>\n",
              "      <td>0.0</td>\n",
              "      <td>0</td>\n",
              "      <td>6</td>\n",
              "      <td>0.077425</td>\n",
              "    </tr>\n",
              "    <tr>\n",
              "      <th>1</th>\n",
              "      <td>2015-05-10 00:00:19.926 UTC</td>\n",
              "      <td>869163565780</td>\n",
              "      <td>613128887100</td>\n",
              "      <td>-2.919218</td>\n",
              "      <td>104.716482</td>\n",
              "      <td>3.000</td>\n",
              "      <td>5.212</td>\n",
              "      <td>-2.921464</td>\n",
              "      <td>104.717112</td>\n",
              "      <td>2015-05-10 00:00:19.926</td>\n",
              "      <td>1</td>\n",
              "      <td>0.0</td>\n",
              "      <td>0.0</td>\n",
              "      <td>0.0</td>\n",
              "      <td>0.0</td>\n",
              "      <td>0</td>\n",
              "      <td>6</td>\n",
              "      <td>0.259284</td>\n",
              "    </tr>\n",
              "    <tr>\n",
              "      <th>2</th>\n",
              "      <td>2015-05-10 00:00:21.298 UTC</td>\n",
              "      <td>552835747248</td>\n",
              "      <td>811842312011</td>\n",
              "      <td>-2.932598</td>\n",
              "      <td>104.789056</td>\n",
              "      <td>4.348</td>\n",
              "      <td>2.501</td>\n",
              "      <td>-2.936892</td>\n",
              "      <td>104.792555</td>\n",
              "      <td>2015-05-10 00:00:21.298</td>\n",
              "      <td>1</td>\n",
              "      <td>0.0</td>\n",
              "      <td>0.0</td>\n",
              "      <td>0.0</td>\n",
              "      <td>0.0</td>\n",
              "      <td>0</td>\n",
              "      <td>6</td>\n",
              "      <td>0.615581</td>\n",
              "    </tr>\n",
              "    <tr>\n",
              "      <th>3</th>\n",
              "      <td>2015-05-10 00:00:21.48 UTC</td>\n",
              "      <td>484447596668</td>\n",
              "      <td>719189764913</td>\n",
              "      <td>-3.012998</td>\n",
              "      <td>104.746118</td>\n",
              "      <td>3.900</td>\n",
              "      <td>7.718</td>\n",
              "      <td>-3.012023</td>\n",
              "      <td>104.746139</td>\n",
              "      <td>2015-05-10 00:00:21.480</td>\n",
              "      <td>1</td>\n",
              "      <td>0.0</td>\n",
              "      <td>0.0</td>\n",
              "      <td>0.0</td>\n",
              "      <td>0.0</td>\n",
              "      <td>0</td>\n",
              "      <td>6</td>\n",
              "      <td>0.108441</td>\n",
              "    </tr>\n",
              "    <tr>\n",
              "      <th>4</th>\n",
              "      <td>2015-05-10 00:00:24.063 UTC</td>\n",
              "      <td>678397441848</td>\n",
              "      <td>518904942900</td>\n",
              "      <td>-2.975489</td>\n",
              "      <td>104.723962</td>\n",
              "      <td>4.251</td>\n",
              "      <td>3.175</td>\n",
              "      <td>-2.972137</td>\n",
              "      <td>104.724829</td>\n",
              "      <td>2015-05-10 00:00:24.063</td>\n",
              "      <td>1</td>\n",
              "      <td>0.0</td>\n",
              "      <td>0.0</td>\n",
              "      <td>0.0</td>\n",
              "      <td>0.0</td>\n",
              "      <td>0</td>\n",
              "      <td>6</td>\n",
              "      <td>0.384910</td>\n",
              "    </tr>\n",
              "  </tbody>\n",
              "</table>\n",
              "</div>"
            ],
            "text/plain": [
              "               event_timestamp     driver_id      order_id  driver_latitude  \\\n",
              "0  2015-05-10 00:00:12.963 UTC  288223322155  257432374014        -2.995167   \n",
              "1  2015-05-10 00:00:19.926 UTC  869163565780  613128887100        -2.919218   \n",
              "2  2015-05-10 00:00:21.298 UTC  552835747248  811842312011        -2.932598   \n",
              "3   2015-05-10 00:00:21.48 UTC  484447596668  719189764913        -3.012998   \n",
              "4  2015-05-10 00:00:24.063 UTC  678397441848  518904942900        -2.975489   \n",
              "\n",
              "   driver_longitude  driver_gps_accuracy  trip_distance  pickup_latitude  \\\n",
              "0        104.767443               87.600          1.428        -2.994609   \n",
              "1        104.716482                3.000          5.212        -2.921464   \n",
              "2        104.789056                4.348          2.501        -2.936892   \n",
              "3        104.746118                3.900          7.718        -3.012023   \n",
              "4        104.723962                4.251          3.175        -2.972137   \n",
              "\n",
              "   pickup_longitude                event_ts  is_completed  acceptance_rate  \\\n",
              "0        104.767860 2015-05-10 00:00:12.963             1              0.0   \n",
              "1        104.717112 2015-05-10 00:00:19.926             1              0.0   \n",
              "2        104.792555 2015-05-10 00:00:21.298             1              0.0   \n",
              "3        104.746139 2015-05-10 00:00:21.480             1              0.0   \n",
              "4        104.724829 2015-05-10 00:00:24.063             1              0.0   \n",
              "\n",
              "   rejection_rate  ignorance_rate  num_orders  event_hour  event_weekday  \\\n",
              "0             0.0             0.0         0.0           0              6   \n",
              "1             0.0             0.0         0.0           0              6   \n",
              "2             0.0             0.0         0.0           0              6   \n",
              "3             0.0             0.0         0.0           0              6   \n",
              "4             0.0             0.0         0.0           0              6   \n",
              "\n",
              "   driver_distance  \n",
              "0         0.077425  \n",
              "1         0.259284  \n",
              "2         0.615581  \n",
              "3         0.108441  \n",
              "4         0.384910  "
            ]
          },
          "execution_count": 261,
          "metadata": {},
          "output_type": "execute_result"
        }
      ],
      "source": [
        "from haversine import haversine\n",
        "\n",
        "\n",
        "def driver_distance_to_pickup(df: pd.DataFrame) -> pd.DataFrame:\n",
        "    df[\"driver_distance\"] = df.apply(\n",
        "        lambda r: haversine(\n",
        "            (r[\"driver_latitude\"], r[\"driver_longitude\"]),\n",
        "            (r[\"pickup_latitude\"], r[\"pickup_longitude\"]),\n",
        "        ),\n",
        "        axis=1,\n",
        "    )\n",
        "    return df\n",
        "\n",
        "\n",
        "merged_df = driver_distance_to_pickup(merged_df)\n",
        "merged_df.head()"
      ]
    },
    {
      "cell_type": "code",
      "execution_count": 262,
      "metadata": {
        "id": "aC78s_x1KK5D"
      },
      "outputs": [],
      "source": [
        "# merged_df.describe()"
      ]
    },
    {
      "cell_type": "code",
      "execution_count": 263,
      "metadata": {
        "colab": {
          "base_uri": "https://localhost:8080/"
        },
        "id": "QHK0IEmEKK5D",
        "outputId": "52cb7c10-8724-406f-e2ea-0829a16aa7e0"
      },
      "outputs": [
        {
          "data": {
            "text/plain": [
              "Index(['event_timestamp', 'driver_id', 'order_id', 'driver_latitude',\n",
              "       'driver_longitude', 'driver_gps_accuracy', 'trip_distance',\n",
              "       'pickup_latitude', 'pickup_longitude', 'event_ts', 'is_completed',\n",
              "       'acceptance_rate', 'rejection_rate', 'ignorance_rate', 'num_orders',\n",
              "       'event_hour', 'event_weekday', 'driver_distance'],\n",
              "      dtype='object')"
            ]
          },
          "execution_count": 263,
          "metadata": {},
          "output_type": "execute_result"
        }
      ],
      "source": [
        "merged_df.columns"
      ]
    },
    {
      "cell_type": "code",
      "execution_count": 264,
      "metadata": {
        "id": "P1ELJpP0KK5D"
      },
      "outputs": [],
      "source": [
        "feature_cols = [\n",
        "    \"event_hour\",\n",
        "    \"event_weekday\",\n",
        "    \"trip_distance\",\n",
        "    \"acceptance_rate\",\n",
        "    \"rejection_rate\",\n",
        "    \"ignorance_rate\",\n",
        "    \"num_orders\",\n",
        "    \"driver_distance\",\n",
        "    \"driver_gps_accuracy\",\n",
        "]\n",
        "label_col = \"is_completed\"\n",
        "\n",
        "# feature_cols"
      ]
    },
    {
      "cell_type": "code",
      "execution_count": 265,
      "metadata": {},
      "outputs": [
        {
          "data": {
            "text/plain": [
              "1"
            ]
          },
          "execution_count": 265,
          "metadata": {},
          "output_type": "execute_result"
        }
      ],
      "source": [
        "int(\"1\")"
      ]
    },
    {
      "cell_type": "code",
      "execution_count": 266,
      "metadata": {
        "colab": {
          "base_uri": "https://localhost:8080/",
          "height": 827
        },
        "id": "9dwfe-NLKK5D",
        "outputId": "2f88712f-ee48-4c01-8de8-8b0b6896cd09"
      },
      "outputs": [
        {
          "data": {
            "text/plain": [
              "[]"
            ]
          },
          "execution_count": 266,
          "metadata": {},
          "output_type": "execute_result"
        },
        {
          "data": {
            "image/png": "[encoded data removed]",
            "text/plain": [
              "<Figure size 1000x800 with 2 Axes>"
            ]
          },
          "metadata": {},
          "output_type": "display_data"
        }
      ],
      "source": [
        "import matplotlib.pyplot as plt\n",
        "import seaborn as sns\n",
        "\n",
        "x = merged_df[feature_cols + [label_col]].corr()\n",
        "plt.figure(figsize=(10, 8))\n",
        "sns.heatmap(x, annot=True)\n",
        "plt.plot()"
      ]
    },
    {
      "cell_type": "code",
      "execution_count": 267,
      "metadata": {
        "id": "vPFOCvk1KK5E"
      },
      "outputs": [],
      "source": [
        "# feature_cols.remove(\"ignore_rejection_rate\")"
      ]
    },
    {
      "cell_type": "code",
      "execution_count": 268,
      "metadata": {
        "id": "PSCRI_oOKK5E"
      },
      "outputs": [],
      "source": [
        "# merged_df.head()"
      ]
    },
    {
      "cell_type": "code",
      "execution_count": 269,
      "metadata": {
        "colab": {
          "base_uri": "https://localhost:8080/"
        },
        "id": "3hne7DMVKK5E",
        "outputId": "8fc4dd3f-5223-4e76-9d50-b24e2b0b6ea3"
      },
      "outputs": [
        {
          "data": {
            "text/plain": [
              "is_completed\n",
              "1    180703\n",
              "0     19916\n",
              "Name: count, dtype: int64"
            ]
          },
          "execution_count": 269,
          "metadata": {},
          "output_type": "execute_result"
        }
      ],
      "source": [
        "merged_df.is_completed.value_counts()"
      ]
    },
    {
      "cell_type": "code",
      "execution_count": null,
      "metadata": {
        "id": "-jUq-XVIKK5E"
      },
      "outputs": [],
      "source": []
    },
    {
      "cell_type": "code",
      "execution_count": null,
      "metadata": {
        "id": "bCwfO4gyKK5E"
      },
      "outputs": [],
      "source": []
    },
    {
      "cell_type": "code",
      "execution_count": null,
      "metadata": {
        "id": "NZHTTCZpKK5E"
      },
      "outputs": [],
      "source": []
    },
    {
      "cell_type": "code",
      "execution_count": null,
      "metadata": {
        "id": "8OOYjA0QKK5E"
      },
      "outputs": [],
      "source": []
    },
    {
      "cell_type": "code",
      "execution_count": 270,
      "metadata": {
        "colab": {
          "base_uri": "https://localhost:8080/"
        },
        "id": "hjWfLpi5KK5E",
        "outputId": "98be9ad3-cdb5-4f93-d084-7f067e413c86"
      },
      "outputs": [
        {
          "name": "stdout",
          "output_type": "stream",
          "text": [
            "(200619, 9)\n",
            "(200619,)\n"
          ]
        }
      ],
      "source": [
        "X = merged_df[feature_cols]\n",
        "y = merged_df[label_col]\n",
        "print(X.shape)\n",
        "print(y.shape)"
      ]
    },
    {
      "cell_type": "code",
      "execution_count": 271,
      "metadata": {
        "id": "UN7G_JKlKK5E"
      },
      "outputs": [],
      "source": [
        "import pandas as pd\n",
        "import numpy as np\n",
        "from sklearn.model_selection import train_test_split, GridSearchCV\n",
        "from sklearn.ensemble import RandomForestClassifier\n",
        "from sklearn.metrics import (\n",
        "    classification_report,\n",
        "    roc_auc_score,\n",
        "    confusion_matrix,\n",
        "    f1_score,\n",
        ")\n",
        "from imblearn.over_sampling import SMOTE\n",
        "\n",
        "X_train, X_test, y_train, y_test = train_test_split(\n",
        "    X, y, test_size=0.2, random_state=42, stratify=y\n",
        ")\n",
        "smote = SMOTE(random_state=42)\n",
        "X_train_res, y_train_res = smote.fit_resample(X_train, y_train)"
      ]
    },
    {
      "cell_type": "code",
      "execution_count": 272,
      "metadata": {},
      "outputs": [],
      "source": [
        "rf_model = RandomForestClassifier(random_state=42, n_jobs=-1)\n",
        "rf_model.fit(X_train_res, y_train_res)\n",
        "\n",
        "y_pred = rf_model.predict(X_test)\n",
        "y_pred_proba = rf_model.predict_proba(X_test)[:, 1]"
      ]
    },
    {
      "cell_type": "code",
      "execution_count": 273,
      "metadata": {
        "colab": {
          "base_uri": "https://localhost:8080/"
        },
        "id": "Eyo1eIoaaLzP",
        "outputId": "6b2c763e-9b9d-4ed1-8f58-0139f28c4df6"
      },
      "outputs": [
        {
          "name": "stdout",
          "output_type": "stream",
          "text": [
            "Confusion Matrix\n",
            "[[ 1248  2735]\n",
            " [ 3287 32854]]\n",
            "Classification Report\n",
            "              precision    recall  f1-score   support\n",
            "\n",
            "           0       0.28      0.31      0.29      3983\n",
            "           1       0.92      0.91      0.92     36141\n",
            "\n",
            "    accuracy                           0.85     40124\n",
            "   macro avg       0.60      0.61      0.60     40124\n",
            "weighted avg       0.86      0.85      0.85     40124\n",
            "\n",
            "f1-score 0.9160462846786561\n"
          ]
        }
      ],
      "source": [
        "def evaluate(y_true, y_pred, y_pred_proba):\n",
        "    print(\"Confusion Matrix\")\n",
        "    print(confusion_matrix(y_true, y_pred))\n",
        "    print(\"Classification Report\")\n",
        "    print(classification_report(y_true, y_pred))\n",
        "    print(\"f1-score\", f1_score(y_true, y_pred))\n",
        "\n",
        "\n",
        "evaluate(y_test, y_pred, y_pred_proba)"
      ]
    },
    {
      "cell_type": "code",
      "execution_count": 274,
      "metadata": {
        "id": "srDsFdqOKK5E"
      },
      "outputs": [
        {
          "name": "stderr",
          "output_type": "stream",
          "text": [
            "/opt/homebrew/Caskroom/miniforge/base/lib/python3.10/site-packages/joblib/externals/loky/process_executor.py:700: UserWarning: A worker stopped while some jobs were given to the executor. This can be caused by a too short worker timeout or by a memory leak.\n",
            "  warnings.warn(\n"
          ]
        },
        {
          "name": "stdout",
          "output_type": "stream",
          "text": [
            "{'max_depth': 30, 'min_samples_split': 2, 'n_estimators': 300}\n",
            "0.8980092405572698\n",
            "Confusion Matrix\n",
            "[[ 1278  2705]\n",
            " [ 3231 32910]]\n",
            "Classification Report\n",
            "              precision    recall  f1-score   support\n",
            "\n",
            "           0       0.28      0.32      0.30      3983\n",
            "           1       0.92      0.91      0.92     36141\n",
            "\n",
            "    accuracy                           0.85     40124\n",
            "   macro avg       0.60      0.62      0.61     40124\n",
            "weighted avg       0.86      0.85      0.86     40124\n",
            "\n",
            "f1-score 0.9172752104353642\n"
          ]
        }
      ],
      "source": [
        "param_grid = {\n",
        "    \"n_estimators\": [100, 200, 300],\n",
        "    \"max_depth\": [10, 20, 30],\n",
        "    \"min_samples_split\": [2, 5, 10],\n",
        "}\n",
        "rf_model = RandomForestClassifier()\n",
        "grid_search = GridSearchCV(\n",
        "    estimator=rf_model, param_grid=param_grid, cv=5, scoring=\"f1_micro\", n_jobs=-1\n",
        ")\n",
        "grid_search.fit(X_train_res, y_train_res)\n",
        "\n",
        "print(grid_search.best_params_)\n",
        "print(grid_search.best_score_)\n",
        "best_rf = grid_search.best_estimator_\n",
        "y_pred = best_rf.predict(X_test)\n",
        "y_pred_proba = best_rf.predict_proba(X_test)[:, 1]\n",
        "evaluate(y_test, y_pred, y_pred_proba)"
      ]
    },
    {
      "cell_type": "code",
      "execution_count": 275,
      "metadata": {},
      "outputs": [
        {
          "name": "stdout",
          "output_type": "stream",
          "text": [
            "Classification Report:\n",
            "              precision    recall  f1-score   support\n",
            "\n",
            "           0       0.28      0.32      0.30      3983\n",
            "           1       0.92      0.91      0.92     36141\n",
            "\n",
            "    accuracy                           0.85     40124\n",
            "   macro avg       0.60      0.62      0.61     40124\n",
            "weighted avg       0.86      0.85      0.86     40124\n",
            "\n",
            "ROC AUC Score: 0.6967652873624111\n",
            "f1-score: 0.9172752104353642\n",
            "confusiion_matrix: [[ 1278  2705]\n",
            " [ 3231 32910]]\n"
          ]
        },
        {
          "data": {
            "image/png": "[encoded data removed]",
            "text/plain": [
              "<Figure size 800x600 with 2 Axes>"
            ]
          },
          "metadata": {},
          "output_type": "display_data"
        }
      ],
      "source": [
        "print(\"Classification Report:\")\n",
        "print(classification_report(y_test, y_pred))\n",
        "print(\"ROC AUC Score:\", roc_auc_score(y_test, y_pred_proba))\n",
        "print(\"f1-score:\", f1_score(y_test, y_pred))\n",
        "print(\"confusiion_matrix:\", confusion_matrix(y_test, y_pred))\n",
        "\n",
        "# Confusion matrix\n",
        "cm = confusion_matrix(y_test, y_pred)\n",
        "plt.figure(figsize=(8, 6))\n",
        "sns.heatmap(cm, annot=True, fmt=\"d\", cmap=\"Blues\")\n",
        "plt.title(\"Confusion Matrix\")\n",
        "plt.xlabel(\"Predicted\")\n",
        "plt.ylabel(\"Actual\")\n",
        "plt.show()"
      ]
    },
    {
      "cell_type": "code",
      "execution_count": 91,
      "metadata": {},
      "outputs": [
        {
          "name": "stdout",
          "output_type": "stream",
          "text": [
            "Confusion Matrix\n",
            "[[ 1712  2271]\n",
            " [ 6159 29982]]\n",
            "Classification Report\n",
            "              precision    recall  f1-score   support\n",
            "\n",
            "           0       0.22      0.43      0.29      3983\n",
            "           1       0.93      0.83      0.88     36141\n",
            "\n",
            "    accuracy                           0.79     40124\n",
            "   macro avg       0.57      0.63      0.58     40124\n",
            "weighted avg       0.86      0.79      0.82     40124\n",
            "\n",
            "f1-score 0.8767435739977191\n"
          ]
        }
      ],
      "source": [
        "rf_model = RandomForestClassifier(\n",
        "    random_state=42, n_jobs=-1, max_depth=15, min_samples_split=2, n_estimators=150\n",
        ")\n",
        "rf_model.fit(X_train_res, y_train_res)\n",
        "\n",
        "y_pred = rf_model.predict(X_test)\n",
        "y_pred_proba = rf_model.predict_proba(X_test)[:, 1]\n",
        "\n",
        "evaluate(y_test, y_pred, y_pred_proba)"
      ]
    },
    {
      "cell_type": "code",
      "execution_count": 92,
      "metadata": {},
      "outputs": [
        {
          "name": "stdout",
          "output_type": "stream",
          "text": [
            "Confusion Matrix\n",
            "[[ 2084  1899]\n",
            " [ 8864 27277]]\n",
            "Classification Report\n",
            "              precision    recall  f1-score   support\n",
            "\n",
            "           0       0.19      0.52      0.28      3983\n",
            "           1       0.93      0.75      0.84     36141\n",
            "\n",
            "    accuracy                           0.73     40124\n",
            "   macro avg       0.56      0.64      0.56     40124\n",
            "weighted avg       0.86      0.73      0.78     40124\n",
            "\n",
            "f1-score 0.8352190088338411\n"
          ]
        }
      ],
      "source": [
        "from sklearn.ensemble import GradientBoostingClassifier\n",
        "\n",
        "gbdt_model = GradientBoostingClassifier(random_state=42)\n",
        "gbdt_model.fit(X_train_res, y_train_res)\n",
        "\n",
        "y_pred = gbdt_model.predict(X_test)\n",
        "y_pred_proba = gbdt_model.predict_proba(X_test)[:, 1]\n",
        "\n",
        "evaluate(y_test, y_pred, y_pred_proba)"
      ]
    },
    {
      "cell_type": "code",
      "execution_count": 96,
      "metadata": {
        "id": "oi0IsqaLKK5F"
      },
      "outputs": [
        {
          "data": {
            "text/html": [
              "<div>\n",
              "<style scoped>\n",
              "    .dataframe tbody tr th:only-of-type {\n",
              "        vertical-align: middle;\n",
              "    }\n",
              "\n",
              "    .dataframe tbody tr th {\n",
              "        vertical-align: top;\n",
              "    }\n",
              "\n",
              "    .dataframe thead th {\n",
              "        text-align: right;\n",
              "    }\n",
              "</style>\n",
              "<table border=\"1\" class=\"dataframe\">\n",
              "  <thead>\n",
              "    <tr style=\"text-align: right;\">\n",
              "      <th></th>\n",
              "      <th>event_timestamp</th>\n",
              "      <th>order_id</th>\n",
              "      <th>customer_id</th>\n",
              "      <th>trip_distance</th>\n",
              "      <th>pickup_latitude</th>\n",
              "      <th>pickup_longitude</th>\n",
              "      <th>driver_id</th>\n",
              "      <th>driver_latitude</th>\n",
              "      <th>driver_longitude</th>\n",
              "      <th>driver_gps_accuracy</th>\n",
              "    </tr>\n",
              "  </thead>\n",
              "  <tbody>\n",
              "    <tr>\n",
              "      <th>0</th>\n",
              "      <td>2015-05-20 05:31:12.822 UTC</td>\n",
              "      <td>300202530411</td>\n",
              "      <td>470195505600</td>\n",
              "      <td>2.0</td>\n",
              "      <td>-2.977965</td>\n",
              "      <td>104.77559</td>\n",
              "      <td>578486386000</td>\n",
              "      <td>-2.979892</td>\n",
              "      <td>104.775853</td>\n",
              "      <td>104.100</td>\n",
              "    </tr>\n",
              "    <tr>\n",
              "      <th>1</th>\n",
              "      <td>2015-05-20 05:31:12.822 UTC</td>\n",
              "      <td>300202530411</td>\n",
              "      <td>470195505600</td>\n",
              "      <td>2.0</td>\n",
              "      <td>-2.977965</td>\n",
              "      <td>104.77559</td>\n",
              "      <td>919898718450</td>\n",
              "      <td>-2.979352</td>\n",
              "      <td>104.772134</td>\n",
              "      <td>22.235</td>\n",
              "    </tr>\n",
              "    <tr>\n",
              "      <th>2</th>\n",
              "      <td>2015-05-20 05:31:12.822 UTC</td>\n",
              "      <td>300202530411</td>\n",
              "      <td>470195505600</td>\n",
              "      <td>2.0</td>\n",
              "      <td>-2.977965</td>\n",
              "      <td>104.77559</td>\n",
              "      <td>566354734208</td>\n",
              "      <td>-2.978990</td>\n",
              "      <td>104.778163</td>\n",
              "      <td>3.900</td>\n",
              "    </tr>\n",
              "    <tr>\n",
              "      <th>3</th>\n",
              "      <td>2015-05-20 05:31:12.822 UTC</td>\n",
              "      <td>300202530411</td>\n",
              "      <td>470195505600</td>\n",
              "      <td>2.0</td>\n",
              "      <td>-2.977965</td>\n",
              "      <td>104.77559</td>\n",
              "      <td>996326998494</td>\n",
              "      <td>-2.979434</td>\n",
              "      <td>104.775919</td>\n",
              "      <td>3.000</td>\n",
              "    </tr>\n",
              "    <tr>\n",
              "      <th>4</th>\n",
              "      <td>2015-05-20 05:31:12.822 UTC</td>\n",
              "      <td>300202530411</td>\n",
              "      <td>470195505600</td>\n",
              "      <td>2.0</td>\n",
              "      <td>-2.977965</td>\n",
              "      <td>104.77559</td>\n",
              "      <td>110774820109</td>\n",
              "      <td>-2.979365</td>\n",
              "      <td>104.776071</td>\n",
              "      <td>4.288</td>\n",
              "    </tr>\n",
              "  </tbody>\n",
              "</table>\n",
              "</div>"
            ],
            "text/plain": [
              "               event_timestamp      order_id   customer_id  trip_distance  \\\n",
              "0  2015-05-20 05:31:12.822 UTC  300202530411  470195505600            2.0   \n",
              "1  2015-05-20 05:31:12.822 UTC  300202530411  470195505600            2.0   \n",
              "2  2015-05-20 05:31:12.822 UTC  300202530411  470195505600            2.0   \n",
              "3  2015-05-20 05:31:12.822 UTC  300202530411  470195505600            2.0   \n",
              "4  2015-05-20 05:31:12.822 UTC  300202530411  470195505600            2.0   \n",
              "\n",
              "   pickup_latitude  pickup_longitude     driver_id  driver_latitude  \\\n",
              "0        -2.977965         104.77559  578486386000        -2.979892   \n",
              "1        -2.977965         104.77559  919898718450        -2.979352   \n",
              "2        -2.977965         104.77559  566354734208        -2.978990   \n",
              "3        -2.977965         104.77559  996326998494        -2.979434   \n",
              "4        -2.977965         104.77559  110774820109        -2.979365   \n",
              "\n",
              "   driver_longitude  driver_gps_accuracy  \n",
              "0        104.775853              104.100  \n",
              "1        104.772134               22.235  \n",
              "2        104.778163                3.900  \n",
              "3        104.775919                3.000  \n",
              "4        104.776071                4.288  "
            ]
          },
          "execution_count": 96,
          "metadata": {},
          "output_type": "execute_result"
        }
      ],
      "source": [
        "test_data = pd.read_csv(\"data/raw/test_data.csv\")\n",
        "test_data.head()"
      ]
    },
    {
      "cell_type": "code",
      "execution_count": null,
      "metadata": {
        "id": "PFyv2A6YKK5F"
      },
      "outputs": [],
      "source": []
    },
    {
      "cell_type": "code",
      "execution_count": null,
      "metadata": {
        "id": "XvoaJalIKK5F"
      },
      "outputs": [],
      "source": [
        "# null_driver_id = booking_log[(booking_log['driver_id'].isna())]\n",
        "# print(null_driver_id[\n",
        "#     (booking_log['booking_status']=='CUSTOMER_CANCELLED')|\n",
        "#     (booking_log['booking_status']=='DRIVER_NOT_FOUND')|\n",
        "#     (booking_log['booking_status']=='CREATED')\n",
        "# ].shape)"
      ]
    },
    {
      "cell_type": "code",
      "execution_count": null,
      "metadata": {
        "id": "w9IZwYdrKK5F"
      },
      "outputs": [],
      "source": [
        "# null_event_ts = booking_log[booking_log['event_timestamp'].isna()]\n",
        "# null_event_ts = null_event_ts[['order_id']]\n",
        "# booking_log.merge(null_event_ts, on=['order_id'], how='inner')"
      ]
    },
    {
      "cell_type": "code",
      "execution_count": null,
      "metadata": {
        "id": "Su61xUfNKK5F"
      },
      "outputs": [],
      "source": [
        "# booking_log = booking_log.dropna(subset=['driver_id', 'event_timestamp'], ignore_index=True)"
      ]
    },
    {
      "cell_type": "code",
      "execution_count": null,
      "metadata": {
        "id": "B0oErReNKK5F"
      },
      "outputs": [],
      "source": []
    }
  ],
  "metadata": {
    "colab": {
      "provenance": []
    },
    "kernelspec": {
      "display_name": "base",
      "language": "python",
      "name": "python3"
    },
    "language_info": {
      "codemirror_mode": {
        "name": "ipython",
        "version": 3
      },
      "file_extension": ".py",
      "mimetype": "text/x-python",
      "name": "python",
      "nbconvert_exporter": "python",
      "pygments_lexer": "ipython3",
      "version": "3.10.6"
    }
  },
  "nbformat": 4,
  "nbformat_minor": 0
}
